{
 "cells": [
  {
   "cell_type": "markdown",
   "id": "f82785d1",
   "metadata": {},
   "source": [
    "#  QIS: Lab 1: Deutsh-Josza Algorithm\n",
    "Team members: \n",
    "- Viviana Cadena\n",
    "- Jesus Lopez\n",
    "- Jorge Ortega\n",
    "- Denisse Loya\n"
   ]
  },
  {
   "cell_type": "markdown",
   "id": "0d6fc571",
   "metadata": {},
   "source": [
    "## Objective:\n",
    "- Implement the Deutsch-Jozsa Algorithm using Qiskit.\n",
    "- Execute the Algorithm on IBM Quantum Hardware\n",
    "- Interpret and analyze the measurement Results."
   ]
  },
  {
   "cell_type": "markdown",
   "id": "ac701b88",
   "metadata": {},
   "source": [
    "## Getting Started"
   ]
  },
  {
   "cell_type": "markdown",
   "id": "08772a1c",
   "metadata": {},
   "source": [
    "### Installation of Qiskit"
   ]
  },
  {
   "cell_type": "code",
   "execution_count": 1,
   "id": "b8ca8563-3734-4820-88a9-ad5d945dfc43",
   "metadata": {},
   "outputs": [
    {
     "name": "stdout",
     "output_type": "stream",
     "text": [
      "Requirement already satisfied: qiskit in /Library/Frameworks/Python.framework/Versions/3.10/lib/python3.10/site-packages (1.3.2)\n",
      "Requirement already satisfied: rustworkx>=0.15.0 in /Library/Frameworks/Python.framework/Versions/3.10/lib/python3.10/site-packages (from qiskit) (0.16.0)\n",
      "Requirement already satisfied: numpy<3,>=1.17 in /Library/Frameworks/Python.framework/Versions/3.10/lib/python3.10/site-packages (from qiskit) (1.26.4)\n",
      "Requirement already satisfied: scipy>=1.5 in /Library/Frameworks/Python.framework/Versions/3.10/lib/python3.10/site-packages (from qiskit) (1.15.1)\n",
      "Requirement already satisfied: sympy>=1.3 in /Library/Frameworks/Python.framework/Versions/3.10/lib/python3.10/site-packages (from qiskit) (1.10.1)\n",
      "Requirement already satisfied: dill>=0.3 in /Library/Frameworks/Python.framework/Versions/3.10/lib/python3.10/site-packages (from qiskit) (0.3.9)\n",
      "Requirement already satisfied: python-dateutil>=2.8.0 in /Library/Frameworks/Python.framework/Versions/3.10/lib/python3.10/site-packages (from qiskit) (2.8.2)\n",
      "Requirement already satisfied: stevedore>=3.0.0 in /Library/Frameworks/Python.framework/Versions/3.10/lib/python3.10/site-packages (from qiskit) (5.4.0)\n",
      "Requirement already satisfied: typing-extensions in /Library/Frameworks/Python.framework/Versions/3.10/lib/python3.10/site-packages (from qiskit) (4.12.2)\n",
      "Requirement already satisfied: symengine<0.14,>=0.11 in /Library/Frameworks/Python.framework/Versions/3.10/lib/python3.10/site-packages (from qiskit) (0.13.0)\n",
      "Requirement already satisfied: six>=1.5 in /Library/Frameworks/Python.framework/Versions/3.10/lib/python3.10/site-packages (from python-dateutil>=2.8.0->qiskit) (1.16.0)\n",
      "Requirement already satisfied: pbr>=2.0.0 in /Library/Frameworks/Python.framework/Versions/3.10/lib/python3.10/site-packages (from stevedore>=3.0.0->qiskit) (6.1.1)\n",
      "Requirement already satisfied: mpmath>=0.19 in /Library/Frameworks/Python.framework/Versions/3.10/lib/python3.10/site-packages (from sympy>=1.3->qiskit) (1.3.0)\n",
      "Requirement already satisfied: setuptools in /Library/Frameworks/Python.framework/Versions/3.10/lib/python3.10/site-packages (from pbr>=2.0.0->stevedore>=3.0.0->qiskit) (58.1.0)\n",
      "Requirement already satisfied: qiskit-ibm-runtime in /Library/Frameworks/Python.framework/Versions/3.10/lib/python3.10/site-packages (0.35.0)\n",
      "Requirement already satisfied: requests>=2.19 in /Library/Frameworks/Python.framework/Versions/3.10/lib/python3.10/site-packages (from qiskit-ibm-runtime) (2.32.3)\n",
      "Requirement already satisfied: requests-ntlm>=1.1.0 in /Library/Frameworks/Python.framework/Versions/3.10/lib/python3.10/site-packages (from qiskit-ibm-runtime) (1.3.0)\n",
      "Requirement already satisfied: numpy>=1.13 in /Library/Frameworks/Python.framework/Versions/3.10/lib/python3.10/site-packages (from qiskit-ibm-runtime) (1.26.4)\n",
      "Requirement already satisfied: urllib3>=1.21.1 in /Library/Frameworks/Python.framework/Versions/3.10/lib/python3.10/site-packages (from qiskit-ibm-runtime) (2.3.0)\n",
      "Requirement already satisfied: python-dateutil>=2.8.0 in /Library/Frameworks/Python.framework/Versions/3.10/lib/python3.10/site-packages (from qiskit-ibm-runtime) (2.8.2)\n",
      "Requirement already satisfied: websocket-client>=1.5.1 in /Library/Frameworks/Python.framework/Versions/3.10/lib/python3.10/site-packages (from qiskit-ibm-runtime) (1.5.1)\n",
      "Requirement already satisfied: ibm-platform-services>=0.22.6 in /Library/Frameworks/Python.framework/Versions/3.10/lib/python3.10/site-packages (from qiskit-ibm-runtime) (0.59.1)\n",
      "Requirement already satisfied: pydantic<2.10,>=2.5.0 in /Library/Frameworks/Python.framework/Versions/3.10/lib/python3.10/site-packages (from qiskit-ibm-runtime) (2.9.2)\n",
      "Requirement already satisfied: qiskit>=1.1.0 in /Library/Frameworks/Python.framework/Versions/3.10/lib/python3.10/site-packages (from qiskit-ibm-runtime) (1.3.2)\n",
      "Requirement already satisfied: ibm_cloud_sdk_core<4.0.0,>=3.22.0 in /Library/Frameworks/Python.framework/Versions/3.10/lib/python3.10/site-packages (from ibm-platform-services>=0.22.6->qiskit-ibm-runtime) (3.22.1)\n",
      "Requirement already satisfied: annotated-types>=0.6.0 in /Library/Frameworks/Python.framework/Versions/3.10/lib/python3.10/site-packages (from pydantic<2.10,>=2.5.0->qiskit-ibm-runtime) (0.7.0)\n",
      "Requirement already satisfied: pydantic-core==2.23.4 in /Library/Frameworks/Python.framework/Versions/3.10/lib/python3.10/site-packages (from pydantic<2.10,>=2.5.0->qiskit-ibm-runtime) (2.23.4)\n",
      "Requirement already satisfied: typing-extensions>=4.6.1 in /Library/Frameworks/Python.framework/Versions/3.10/lib/python3.10/site-packages (from pydantic<2.10,>=2.5.0->qiskit-ibm-runtime) (4.12.2)\n",
      "Requirement already satisfied: six>=1.5 in /Library/Frameworks/Python.framework/Versions/3.10/lib/python3.10/site-packages (from python-dateutil>=2.8.0->qiskit-ibm-runtime) (1.16.0)\n",
      "Requirement already satisfied: rustworkx>=0.15.0 in /Library/Frameworks/Python.framework/Versions/3.10/lib/python3.10/site-packages (from qiskit>=1.1.0->qiskit-ibm-runtime) (0.16.0)\n",
      "Requirement already satisfied: scipy>=1.5 in /Library/Frameworks/Python.framework/Versions/3.10/lib/python3.10/site-packages (from qiskit>=1.1.0->qiskit-ibm-runtime) (1.15.1)\n",
      "Requirement already satisfied: sympy>=1.3 in /Library/Frameworks/Python.framework/Versions/3.10/lib/python3.10/site-packages (from qiskit>=1.1.0->qiskit-ibm-runtime) (1.10.1)\n",
      "Requirement already satisfied: dill>=0.3 in /Library/Frameworks/Python.framework/Versions/3.10/lib/python3.10/site-packages (from qiskit>=1.1.0->qiskit-ibm-runtime) (0.3.9)\n",
      "Requirement already satisfied: stevedore>=3.0.0 in /Library/Frameworks/Python.framework/Versions/3.10/lib/python3.10/site-packages (from qiskit>=1.1.0->qiskit-ibm-runtime) (5.4.0)\n",
      "Requirement already satisfied: symengine<0.14,>=0.11 in /Library/Frameworks/Python.framework/Versions/3.10/lib/python3.10/site-packages (from qiskit>=1.1.0->qiskit-ibm-runtime) (0.13.0)\n",
      "Requirement already satisfied: charset-normalizer<4,>=2 in /Users/lopez/Library/Python/3.10/lib/python/site-packages (from requests>=2.19->qiskit-ibm-runtime) (2.0.12)\n",
      "Requirement already satisfied: idna<4,>=2.5 in /Users/lopez/Library/Python/3.10/lib/python/site-packages (from requests>=2.19->qiskit-ibm-runtime) (3.3)\n",
      "Requirement already satisfied: certifi>=2017.4.17 in /Users/lopez/Library/Python/3.10/lib/python/site-packages (from requests>=2.19->qiskit-ibm-runtime) (2021.10.8)\n",
      "Requirement already satisfied: cryptography>=1.3 in /Library/Frameworks/Python.framework/Versions/3.10/lib/python3.10/site-packages (from requests-ntlm>=1.1.0->qiskit-ibm-runtime) (44.0.1)\n",
      "Requirement already satisfied: pyspnego>=0.4.0 in /Library/Frameworks/Python.framework/Versions/3.10/lib/python3.10/site-packages (from requests-ntlm>=1.1.0->qiskit-ibm-runtime) (0.11.2)\n",
      "Requirement already satisfied: cffi>=1.12 in /Library/Frameworks/Python.framework/Versions/3.10/lib/python3.10/site-packages (from cryptography>=1.3->requests-ntlm>=1.1.0->qiskit-ibm-runtime) (1.15.1)\n",
      "Requirement already satisfied: PyJWT<3.0.0,>=2.8.0 in /Library/Frameworks/Python.framework/Versions/3.10/lib/python3.10/site-packages (from ibm_cloud_sdk_core<4.0.0,>=3.22.0->ibm-platform-services>=0.22.6->qiskit-ibm-runtime) (2.10.1)\n",
      "Requirement already satisfied: pbr>=2.0.0 in /Library/Frameworks/Python.framework/Versions/3.10/lib/python3.10/site-packages (from stevedore>=3.0.0->qiskit>=1.1.0->qiskit-ibm-runtime) (6.1.1)\n",
      "Requirement already satisfied: mpmath>=0.19 in /Library/Frameworks/Python.framework/Versions/3.10/lib/python3.10/site-packages (from sympy>=1.3->qiskit>=1.1.0->qiskit-ibm-runtime) (1.3.0)\n",
      "Requirement already satisfied: pycparser in /Library/Frameworks/Python.framework/Versions/3.10/lib/python3.10/site-packages (from cffi>=1.12->cryptography>=1.3->requests-ntlm>=1.1.0->qiskit-ibm-runtime) (2.21)\n",
      "Requirement already satisfied: setuptools in /Library/Frameworks/Python.framework/Versions/3.10/lib/python3.10/site-packages (from pbr>=2.0.0->stevedore>=3.0.0->qiskit>=1.1.0->qiskit-ibm-runtime) (58.1.0)\n",
      "zsh:1: no matches found: qiskit[visualization]\n",
      "Requirement already satisfied: qiskit_serverless in /Library/Frameworks/Python.framework/Versions/3.10/lib/python3.10/site-packages (0.14.2)\n",
      "Requirement already satisfied: ray<3,>=2.30.0 in /Library/Frameworks/Python.framework/Versions/3.10/lib/python3.10/site-packages (from ray[data,default]<3,>=2.30.0->qiskit_serverless) (2.42.1)\n",
      "Requirement already satisfied: requests>=2.32.2 in /Library/Frameworks/Python.framework/Versions/3.10/lib/python3.10/site-packages (from qiskit_serverless) (2.32.3)\n",
      "Requirement already satisfied: importlib-metadata>=5.2.0 in /Library/Frameworks/Python.framework/Versions/3.10/lib/python3.10/site-packages (from qiskit_serverless) (8.5.0)\n",
      "Requirement already satisfied: qiskit>=1.0.2 in /Library/Frameworks/Python.framework/Versions/3.10/lib/python3.10/site-packages (from qiskit_serverless) (1.3.2)\n",
      "Requirement already satisfied: qiskit-ibm-runtime>=0.21.1 in /Library/Frameworks/Python.framework/Versions/3.10/lib/python3.10/site-packages (from qiskit_serverless) (0.35.0)\n",
      "Requirement already satisfied: cloudpickle==2.2.1 in /Library/Frameworks/Python.framework/Versions/3.10/lib/python3.10/site-packages (from qiskit_serverless) (2.2.1)\n",
      "Requirement already satisfied: tqdm>=4.66.3 in /Library/Frameworks/Python.framework/Versions/3.10/lib/python3.10/site-packages (from qiskit_serverless) (4.67.1)\n",
      "Requirement already satisfied: opentelemetry-api>=1.18.0 in /Library/Frameworks/Python.framework/Versions/3.10/lib/python3.10/site-packages (from qiskit_serverless) (1.30.0)\n",
      "Requirement already satisfied: opentelemetry-sdk>=1.18.0 in /Library/Frameworks/Python.framework/Versions/3.10/lib/python3.10/site-packages (from qiskit_serverless) (1.30.0)\n",
      "Requirement already satisfied: opentelemetry-exporter-otlp-proto-grpc>=1.18.0 in /Library/Frameworks/Python.framework/Versions/3.10/lib/python3.10/site-packages (from qiskit_serverless) (1.30.0)\n",
      "Requirement already satisfied: s3fs>=2023.6.0 in /Library/Frameworks/Python.framework/Versions/3.10/lib/python3.10/site-packages (from qiskit_serverless) (2025.2.0)\n",
      "Requirement already satisfied: opentelemetry.instrumentation.requests>=0.40b0 in /Library/Frameworks/Python.framework/Versions/3.10/lib/python3.10/site-packages (from qiskit_serverless) (0.51b0)\n",
      "Requirement already satisfied: ipywidgets>=8.1.2 in /Library/Frameworks/Python.framework/Versions/3.10/lib/python3.10/site-packages (from qiskit_serverless) (8.1.5)\n",
      "Requirement already satisfied: ipython>=8.10.0 in /Library/Frameworks/Python.framework/Versions/3.10/lib/python3.10/site-packages (from qiskit_serverless) (8.12.0)\n",
      "Requirement already satisfied: zipp>=3.20 in /Library/Frameworks/Python.framework/Versions/3.10/lib/python3.10/site-packages (from importlib-metadata>=5.2.0->qiskit_serverless) (3.21.0)\n",
      "Requirement already satisfied: backcall in /Library/Frameworks/Python.framework/Versions/3.10/lib/python3.10/site-packages (from ipython>=8.10.0->qiskit_serverless) (0.2.0)\n"
     ]
    },
    {
     "name": "stdout",
     "output_type": "stream",
     "text": [
      "Requirement already satisfied: decorator in /Library/Frameworks/Python.framework/Versions/3.10/lib/python3.10/site-packages (from ipython>=8.10.0->qiskit_serverless) (5.1.1)\n",
      "Requirement already satisfied: jedi>=0.16 in /Library/Frameworks/Python.framework/Versions/3.10/lib/python3.10/site-packages (from ipython>=8.10.0->qiskit_serverless) (0.18.2)\n",
      "Requirement already satisfied: matplotlib-inline in /Library/Frameworks/Python.framework/Versions/3.10/lib/python3.10/site-packages (from ipython>=8.10.0->qiskit_serverless) (0.1.6)\n",
      "Requirement already satisfied: pickleshare in /Library/Frameworks/Python.framework/Versions/3.10/lib/python3.10/site-packages (from ipython>=8.10.0->qiskit_serverless) (0.7.5)\n",
      "Requirement already satisfied: prompt-toolkit!=3.0.37,<3.1.0,>=3.0.30 in /Library/Frameworks/Python.framework/Versions/3.10/lib/python3.10/site-packages (from ipython>=8.10.0->qiskit_serverless) (3.0.38)\n",
      "Requirement already satisfied: pygments>=2.4.0 in /Library/Frameworks/Python.framework/Versions/3.10/lib/python3.10/site-packages (from ipython>=8.10.0->qiskit_serverless) (2.14.0)\n",
      "Requirement already satisfied: stack-data in /Library/Frameworks/Python.framework/Versions/3.10/lib/python3.10/site-packages (from ipython>=8.10.0->qiskit_serverless) (0.6.2)\n",
      "Requirement already satisfied: traitlets>=5 in /Library/Frameworks/Python.framework/Versions/3.10/lib/python3.10/site-packages (from ipython>=8.10.0->qiskit_serverless) (5.9.0)\n",
      "Requirement already satisfied: pexpect>4.3 in /Library/Frameworks/Python.framework/Versions/3.10/lib/python3.10/site-packages (from ipython>=8.10.0->qiskit_serverless) (4.8.0)\n",
      "Requirement already satisfied: appnope in /Library/Frameworks/Python.framework/Versions/3.10/lib/python3.10/site-packages (from ipython>=8.10.0->qiskit_serverless) (0.1.3)\n",
      "Requirement already satisfied: comm>=0.1.3 in /Library/Frameworks/Python.framework/Versions/3.10/lib/python3.10/site-packages (from ipywidgets>=8.1.2->qiskit_serverless) (0.1.3)\n",
      "Requirement already satisfied: widgetsnbextension~=4.0.12 in /Library/Frameworks/Python.framework/Versions/3.10/lib/python3.10/site-packages (from ipywidgets>=8.1.2->qiskit_serverless) (4.0.13)\n",
      "Requirement already satisfied: jupyterlab-widgets~=3.0.12 in /Library/Frameworks/Python.framework/Versions/3.10/lib/python3.10/site-packages (from ipywidgets>=8.1.2->qiskit_serverless) (3.0.13)\n",
      "Requirement already satisfied: deprecated>=1.2.6 in /Library/Frameworks/Python.framework/Versions/3.10/lib/python3.10/site-packages (from opentelemetry-api>=1.18.0->qiskit_serverless) (1.2.18)\n",
      "Requirement already satisfied: googleapis-common-protos~=1.52 in /Library/Frameworks/Python.framework/Versions/3.10/lib/python3.10/site-packages (from opentelemetry-exporter-otlp-proto-grpc>=1.18.0->qiskit_serverless) (1.67.0)\n",
      "Requirement already satisfied: grpcio<2.0.0,>=1.63.2 in /Library/Frameworks/Python.framework/Versions/3.10/lib/python3.10/site-packages (from opentelemetry-exporter-otlp-proto-grpc>=1.18.0->qiskit_serverless) (1.70.0)\n",
      "Requirement already satisfied: opentelemetry-exporter-otlp-proto-common==1.30.0 in /Library/Frameworks/Python.framework/Versions/3.10/lib/python3.10/site-packages (from opentelemetry-exporter-otlp-proto-grpc>=1.18.0->qiskit_serverless) (1.30.0)\n",
      "Requirement already satisfied: opentelemetry-proto==1.30.0 in /Library/Frameworks/Python.framework/Versions/3.10/lib/python3.10/site-packages (from opentelemetry-exporter-otlp-proto-grpc>=1.18.0->qiskit_serverless) (1.30.0)\n",
      "Requirement already satisfied: protobuf<6.0,>=5.0 in /Library/Frameworks/Python.framework/Versions/3.10/lib/python3.10/site-packages (from opentelemetry-proto==1.30.0->opentelemetry-exporter-otlp-proto-grpc>=1.18.0->qiskit_serverless) (5.29.3)\n",
      "Requirement already satisfied: opentelemetry-instrumentation==0.51b0 in /Library/Frameworks/Python.framework/Versions/3.10/lib/python3.10/site-packages (from opentelemetry.instrumentation.requests>=0.40b0->qiskit_serverless) (0.51b0)\n",
      "Requirement already satisfied: opentelemetry-semantic-conventions==0.51b0 in /Library/Frameworks/Python.framework/Versions/3.10/lib/python3.10/site-packages (from opentelemetry.instrumentation.requests>=0.40b0->qiskit_serverless) (0.51b0)\n",
      "Requirement already satisfied: opentelemetry-util-http==0.51b0 in /Library/Frameworks/Python.framework/Versions/3.10/lib/python3.10/site-packages (from opentelemetry.instrumentation.requests>=0.40b0->qiskit_serverless) (0.51b0)\n",
      "Requirement already satisfied: packaging>=18.0 in /Library/Frameworks/Python.framework/Versions/3.10/lib/python3.10/site-packages (from opentelemetry-instrumentation==0.51b0->opentelemetry.instrumentation.requests>=0.40b0->qiskit_serverless) (23.0)\n",
      "Requirement already satisfied: wrapt<2.0.0,>=1.0.0 in /Library/Frameworks/Python.framework/Versions/3.10/lib/python3.10/site-packages (from opentelemetry-instrumentation==0.51b0->opentelemetry.instrumentation.requests>=0.40b0->qiskit_serverless) (1.14.1)\n",
      "Requirement already satisfied: typing-extensions>=3.7.4 in /Library/Frameworks/Python.framework/Versions/3.10/lib/python3.10/site-packages (from opentelemetry-sdk>=1.18.0->qiskit_serverless) (4.12.2)\n",
      "Requirement already satisfied: rustworkx>=0.15.0 in /Library/Frameworks/Python.framework/Versions/3.10/lib/python3.10/site-packages (from qiskit>=1.0.2->qiskit_serverless) (0.16.0)\n",
      "Requirement already satisfied: numpy<3,>=1.17 in /Library/Frameworks/Python.framework/Versions/3.10/lib/python3.10/site-packages (from qiskit>=1.0.2->qiskit_serverless) (1.26.4)\n",
      "Requirement already satisfied: scipy>=1.5 in /Library/Frameworks/Python.framework/Versions/3.10/lib/python3.10/site-packages (from qiskit>=1.0.2->qiskit_serverless) (1.15.1)\n",
      "Requirement already satisfied: sympy>=1.3 in /Library/Frameworks/Python.framework/Versions/3.10/lib/python3.10/site-packages (from qiskit>=1.0.2->qiskit_serverless) (1.10.1)\n",
      "Requirement already satisfied: dill>=0.3 in /Library/Frameworks/Python.framework/Versions/3.10/lib/python3.10/site-packages (from qiskit>=1.0.2->qiskit_serverless) (0.3.9)\n",
      "Requirement already satisfied: python-dateutil>=2.8.0 in /Library/Frameworks/Python.framework/Versions/3.10/lib/python3.10/site-packages (from qiskit>=1.0.2->qiskit_serverless) (2.8.2)\n",
      "Requirement already satisfied: stevedore>=3.0.0 in /Library/Frameworks/Python.framework/Versions/3.10/lib/python3.10/site-packages (from qiskit>=1.0.2->qiskit_serverless) (5.4.0)\n",
      "Requirement already satisfied: symengine<0.14,>=0.11 in /Library/Frameworks/Python.framework/Versions/3.10/lib/python3.10/site-packages (from qiskit>=1.0.2->qiskit_serverless) (0.13.0)\n",
      "Requirement already satisfied: requests-ntlm>=1.1.0 in /Library/Frameworks/Python.framework/Versions/3.10/lib/python3.10/site-packages (from qiskit-ibm-runtime>=0.21.1->qiskit_serverless) (1.3.0)\n",
      "Requirement already satisfied: urllib3>=1.21.1 in /Library/Frameworks/Python.framework/Versions/3.10/lib/python3.10/site-packages (from qiskit-ibm-runtime>=0.21.1->qiskit_serverless) (2.3.0)\n",
      "Requirement already satisfied: websocket-client>=1.5.1 in /Library/Frameworks/Python.framework/Versions/3.10/lib/python3.10/site-packages (from qiskit-ibm-runtime>=0.21.1->qiskit_serverless) (1.5.1)\n",
      "Requirement already satisfied: ibm-platform-services>=0.22.6 in /Library/Frameworks/Python.framework/Versions/3.10/lib/python3.10/site-packages (from qiskit-ibm-runtime>=0.21.1->qiskit_serverless) (0.59.1)\n",
      "Requirement already satisfied: pydantic<2.10,>=2.5.0 in /Library/Frameworks/Python.framework/Versions/3.10/lib/python3.10/site-packages (from qiskit-ibm-runtime>=0.21.1->qiskit_serverless) (2.9.2)\n",
      "Requirement already satisfied: click>=7.0 in /Library/Frameworks/Python.framework/Versions/3.10/lib/python3.10/site-packages (from ray<3,>=2.30.0->ray[data,default]<3,>=2.30.0->qiskit_serverless) (8.1.7)\n",
      "Requirement already satisfied: filelock in /Library/Frameworks/Python.framework/Versions/3.10/lib/python3.10/site-packages (from ray<3,>=2.30.0->ray[data,default]<3,>=2.30.0->qiskit_serverless) (3.17.0)\n",
      "Requirement already satisfied: jsonschema in /Library/Frameworks/Python.framework/Versions/3.10/lib/python3.10/site-packages (from ray<3,>=2.30.0->ray[data,default]<3,>=2.30.0->qiskit_serverless) (4.17.3)\n",
      "Requirement already satisfied: msgpack<2.0.0,>=1.0.0 in /Users/lopez/Library/Python/3.10/lib/python/site-packages (from ray<3,>=2.30.0->ray[data,default]<3,>=2.30.0->qiskit_serverless) (1.0.7)\n",
      "Requirement already satisfied: pyyaml in /Library/Frameworks/Python.framework/Versions/3.10/lib/python3.10/site-packages (from ray<3,>=2.30.0->ray[data,default]<3,>=2.30.0->qiskit_serverless) (6.0)\n",
      "Requirement already satisfied: aiosignal in /Library/Frameworks/Python.framework/Versions/3.10/lib/python3.10/site-packages (from ray<3,>=2.30.0->ray[data,default]<3,>=2.30.0->qiskit_serverless) (1.3.2)\n",
      "Requirement already satisfied: frozenlist in /Library/Frameworks/Python.framework/Versions/3.10/lib/python3.10/site-packages (from ray<3,>=2.30.0->ray[data,default]<3,>=2.30.0->qiskit_serverless) (1.5.0)\n",
      "Requirement already satisfied: pandas>=1.3 in /Library/Frameworks/Python.framework/Versions/3.10/lib/python3.10/site-packages (from ray[data,default]<3,>=2.30.0->qiskit_serverless) (1.5.3)\n",
      "Requirement already satisfied: pyarrow>=9.0.0 in /Library/Frameworks/Python.framework/Versions/3.10/lib/python3.10/site-packages (from ray[data,default]<3,>=2.30.0->qiskit_serverless) (19.0.0)\n",
      "Requirement already satisfied: fsspec in /Library/Frameworks/Python.framework/Versions/3.10/lib/python3.10/site-packages (from ray[data,default]<3,>=2.30.0->qiskit_serverless) (2025.2.0)\n",
      "Requirement already satisfied: aiohttp>=3.7 in /Library/Frameworks/Python.framework/Versions/3.10/lib/python3.10/site-packages (from ray[data,default]<3,>=2.30.0->qiskit_serverless) (3.11.12)\n",
      "Requirement already satisfied: aiohttp-cors in /Library/Frameworks/Python.framework/Versions/3.10/lib/python3.10/site-packages (from ray[data,default]<3,>=2.30.0->qiskit_serverless) (0.7.0)\n",
      "Requirement already satisfied: colorful in /Library/Frameworks/Python.framework/Versions/3.10/lib/python3.10/site-packages (from ray[data,default]<3,>=2.30.0->qiskit_serverless) (0.5.6)\n",
      "Requirement already satisfied: opencensus in /Library/Frameworks/Python.framework/Versions/3.10/lib/python3.10/site-packages (from ray[data,default]<3,>=2.30.0->qiskit_serverless) (0.11.4)\n",
      "Requirement already satisfied: prometheus-client>=0.7.1 in /Library/Frameworks/Python.framework/Versions/3.10/lib/python3.10/site-packages (from ray[data,default]<3,>=2.30.0->qiskit_serverless) (0.16.0)\n",
      "Requirement already satisfied: smart-open in /Library/Frameworks/Python.framework/Versions/3.10/lib/python3.10/site-packages (from ray[data,default]<3,>=2.30.0->qiskit_serverless) (7.1.0)\n",
      "Requirement already satisfied: virtualenv!=20.21.1,>=20.0.24 in /Library/Frameworks/Python.framework/Versions/3.10/lib/python3.10/site-packages (from ray[data,default]<3,>=2.30.0->qiskit_serverless) (20.29.2)\n",
      "Requirement already satisfied: py-spy>=0.2.0 in /Library/Frameworks/Python.framework/Versions/3.10/lib/python3.10/site-packages (from ray[data,default]<3,>=2.30.0->qiskit_serverless) (0.4.0)\n",
      "Requirement already satisfied: charset-normalizer<4,>=2 in /Users/lopez/Library/Python/3.10/lib/python/site-packages (from requests>=2.32.2->qiskit_serverless) (2.0.12)\n",
      "Requirement already satisfied: idna<4,>=2.5 in /Users/lopez/Library/Python/3.10/lib/python/site-packages (from requests>=2.32.2->qiskit_serverless) (3.3)\n",
      "Requirement already satisfied: certifi>=2017.4.17 in /Users/lopez/Library/Python/3.10/lib/python/site-packages (from requests>=2.32.2->qiskit_serverless) (2021.10.8)\n",
      "Requirement already satisfied: aiobotocore<3.0.0,>=2.5.4 in /Library/Frameworks/Python.framework/Versions/3.10/lib/python3.10/site-packages (from s3fs>=2023.6.0->qiskit_serverless) (2.19.0)\n"
     ]
    },
    {
     "name": "stdout",
     "output_type": "stream",
     "text": [
      "Requirement already satisfied: aioitertools<1.0.0,>=0.5.1 in /Library/Frameworks/Python.framework/Versions/3.10/lib/python3.10/site-packages (from aiobotocore<3.0.0,>=2.5.4->s3fs>=2023.6.0->qiskit_serverless) (0.12.0)\n",
      "Requirement already satisfied: botocore<1.36.4,>=1.36.0 in /Library/Frameworks/Python.framework/Versions/3.10/lib/python3.10/site-packages (from aiobotocore<3.0.0,>=2.5.4->s3fs>=2023.6.0->qiskit_serverless) (1.36.3)\n",
      "Requirement already satisfied: jmespath<2.0.0,>=0.7.1 in /Library/Frameworks/Python.framework/Versions/3.10/lib/python3.10/site-packages (from aiobotocore<3.0.0,>=2.5.4->s3fs>=2023.6.0->qiskit_serverless) (1.0.1)\n",
      "Requirement already satisfied: multidict<7.0.0,>=6.0.0 in /Library/Frameworks/Python.framework/Versions/3.10/lib/python3.10/site-packages (from aiobotocore<3.0.0,>=2.5.4->s3fs>=2023.6.0->qiskit_serverless) (6.1.0)\n",
      "Requirement already satisfied: aiohappyeyeballs>=2.3.0 in /Library/Frameworks/Python.framework/Versions/3.10/lib/python3.10/site-packages (from aiohttp>=3.7->ray[data,default]<3,>=2.30.0->qiskit_serverless) (2.4.6)\n",
      "Requirement already satisfied: async-timeout<6.0,>=4.0 in /Library/Frameworks/Python.framework/Versions/3.10/lib/python3.10/site-packages (from aiohttp>=3.7->ray[data,default]<3,>=2.30.0->qiskit_serverless) (5.0.1)\n",
      "Requirement already satisfied: attrs>=17.3.0 in /Library/Frameworks/Python.framework/Versions/3.10/lib/python3.10/site-packages (from aiohttp>=3.7->ray[data,default]<3,>=2.30.0->qiskit_serverless) (22.2.0)\n",
      "Requirement already satisfied: propcache>=0.2.0 in /Library/Frameworks/Python.framework/Versions/3.10/lib/python3.10/site-packages (from aiohttp>=3.7->ray[data,default]<3,>=2.30.0->qiskit_serverless) (0.2.1)\n",
      "Requirement already satisfied: yarl<2.0,>=1.17.0 in /Library/Frameworks/Python.framework/Versions/3.10/lib/python3.10/site-packages (from aiohttp>=3.7->ray[data,default]<3,>=2.30.0->qiskit_serverless) (1.18.3)\n",
      "Requirement already satisfied: ibm_cloud_sdk_core<4.0.0,>=3.22.0 in /Library/Frameworks/Python.framework/Versions/3.10/lib/python3.10/site-packages (from ibm-platform-services>=0.22.6->qiskit-ibm-runtime>=0.21.1->qiskit_serverless) (3.22.1)\n",
      "Requirement already satisfied: parso<0.9.0,>=0.8.0 in /Library/Frameworks/Python.framework/Versions/3.10/lib/python3.10/site-packages (from jedi>=0.16->ipython>=8.10.0->qiskit_serverless) (0.8.3)\n",
      "Requirement already satisfied: pytz>=2020.1 in /Library/Frameworks/Python.framework/Versions/3.10/lib/python3.10/site-packages (from pandas>=1.3->ray[data,default]<3,>=2.30.0->qiskit_serverless) (2023.3)\n",
      "Requirement already satisfied: ptyprocess>=0.5 in /Library/Frameworks/Python.framework/Versions/3.10/lib/python3.10/site-packages (from pexpect>4.3->ipython>=8.10.0->qiskit_serverless) (0.7.0)\n",
      "Requirement already satisfied: wcwidth in /Library/Frameworks/Python.framework/Versions/3.10/lib/python3.10/site-packages (from prompt-toolkit!=3.0.37,<3.1.0,>=3.0.30->ipython>=8.10.0->qiskit_serverless) (0.2.6)\n",
      "Requirement already satisfied: annotated-types>=0.6.0 in /Library/Frameworks/Python.framework/Versions/3.10/lib/python3.10/site-packages (from pydantic<2.10,>=2.5.0->qiskit-ibm-runtime>=0.21.1->qiskit_serverless) (0.7.0)\n",
      "Requirement already satisfied: pydantic-core==2.23.4 in /Library/Frameworks/Python.framework/Versions/3.10/lib/python3.10/site-packages (from pydantic<2.10,>=2.5.0->qiskit-ibm-runtime>=0.21.1->qiskit_serverless) (2.23.4)\n",
      "Requirement already satisfied: six>=1.5 in /Library/Frameworks/Python.framework/Versions/3.10/lib/python3.10/site-packages (from python-dateutil>=2.8.0->qiskit>=1.0.2->qiskit_serverless) (1.16.0)\n",
      "Requirement already satisfied: cryptography>=1.3 in /Library/Frameworks/Python.framework/Versions/3.10/lib/python3.10/site-packages (from requests-ntlm>=1.1.0->qiskit-ibm-runtime>=0.21.1->qiskit_serverless) (44.0.1)\n",
      "Requirement already satisfied: pyspnego>=0.4.0 in /Library/Frameworks/Python.framework/Versions/3.10/lib/python3.10/site-packages (from requests-ntlm>=1.1.0->qiskit-ibm-runtime>=0.21.1->qiskit_serverless) (0.11.2)\n",
      "Requirement already satisfied: pbr>=2.0.0 in /Library/Frameworks/Python.framework/Versions/3.10/lib/python3.10/site-packages (from stevedore>=3.0.0->qiskit>=1.0.2->qiskit_serverless) (6.1.1)\n",
      "Requirement already satisfied: mpmath>=0.19 in /Library/Frameworks/Python.framework/Versions/3.10/lib/python3.10/site-packages (from sympy>=1.3->qiskit>=1.0.2->qiskit_serverless) (1.3.0)\n",
      "Requirement already satisfied: distlib<1,>=0.3.7 in /Library/Frameworks/Python.framework/Versions/3.10/lib/python3.10/site-packages (from virtualenv!=20.21.1,>=20.0.24->ray[data,default]<3,>=2.30.0->qiskit_serverless) (0.3.9)\n",
      "Requirement already satisfied: platformdirs<5,>=3.9.1 in /Library/Frameworks/Python.framework/Versions/3.10/lib/python3.10/site-packages (from virtualenv!=20.21.1,>=20.0.24->ray[data,default]<3,>=2.30.0->qiskit_serverless) (4.3.6)\n",
      "Requirement already satisfied: pyrsistent!=0.17.0,!=0.17.1,!=0.17.2,>=0.14.0 in /Library/Frameworks/Python.framework/Versions/3.10/lib/python3.10/site-packages (from jsonschema->ray<3,>=2.30.0->ray[data,default]<3,>=2.30.0->qiskit_serverless) (0.19.3)\n",
      "Requirement already satisfied: opencensus-context>=0.1.3 in /Library/Frameworks/Python.framework/Versions/3.10/lib/python3.10/site-packages (from opencensus->ray[data,default]<3,>=2.30.0->qiskit_serverless) (0.1.3)\n",
      "Requirement already satisfied: google-api-core<3.0.0,>=1.0.0 in /Library/Frameworks/Python.framework/Versions/3.10/lib/python3.10/site-packages (from opencensus->ray[data,default]<3,>=2.30.0->qiskit_serverless) (2.24.1)\n",
      "Requirement already satisfied: executing>=1.2.0 in /Library/Frameworks/Python.framework/Versions/3.10/lib/python3.10/site-packages (from stack-data->ipython>=8.10.0->qiskit_serverless) (1.2.0)\n",
      "Requirement already satisfied: asttokens>=2.1.0 in /Library/Frameworks/Python.framework/Versions/3.10/lib/python3.10/site-packages (from stack-data->ipython>=8.10.0->qiskit_serverless) (2.2.1)\n",
      "Requirement already satisfied: pure-eval in /Library/Frameworks/Python.framework/Versions/3.10/lib/python3.10/site-packages (from stack-data->ipython>=8.10.0->qiskit_serverless) (0.2.2)\n",
      "Requirement already satisfied: cffi>=1.12 in /Library/Frameworks/Python.framework/Versions/3.10/lib/python3.10/site-packages (from cryptography>=1.3->requests-ntlm>=1.1.0->qiskit-ibm-runtime>=0.21.1->qiskit_serverless) (1.15.1)\n",
      "Requirement already satisfied: proto-plus<2.0.0dev,>=1.22.3 in /Library/Frameworks/Python.framework/Versions/3.10/lib/python3.10/site-packages (from google-api-core<3.0.0,>=1.0.0->opencensus->ray[data,default]<3,>=2.30.0->qiskit_serverless) (1.26.0)\n",
      "Requirement already satisfied: google-auth<3.0.dev0,>=2.14.1 in /Library/Frameworks/Python.framework/Versions/3.10/lib/python3.10/site-packages (from google-api-core<3.0.0,>=1.0.0->opencensus->ray[data,default]<3,>=2.30.0->qiskit_serverless) (2.28.0)\n",
      "Requirement already satisfied: PyJWT<3.0.0,>=2.8.0 in /Library/Frameworks/Python.framework/Versions/3.10/lib/python3.10/site-packages (from ibm_cloud_sdk_core<4.0.0,>=3.22.0->ibm-platform-services>=0.22.6->qiskit-ibm-runtime>=0.21.1->qiskit_serverless) (2.10.1)\n",
      "Requirement already satisfied: setuptools in /Library/Frameworks/Python.framework/Versions/3.10/lib/python3.10/site-packages (from pbr>=2.0.0->stevedore>=3.0.0->qiskit>=1.0.2->qiskit_serverless) (58.1.0)\n",
      "Requirement already satisfied: pycparser in /Library/Frameworks/Python.framework/Versions/3.10/lib/python3.10/site-packages (from cffi>=1.12->cryptography>=1.3->requests-ntlm>=1.1.0->qiskit-ibm-runtime>=0.21.1->qiskit_serverless) (2.21)\n",
      "Requirement already satisfied: cachetools<6.0,>=2.0.0 in /Library/Frameworks/Python.framework/Versions/3.10/lib/python3.10/site-packages (from google-auth<3.0.dev0,>=2.14.1->google-api-core<3.0.0,>=1.0.0->opencensus->ray[data,default]<3,>=2.30.0->qiskit_serverless) (5.3.2)\n",
      "Requirement already satisfied: pyasn1-modules>=0.2.1 in /Library/Frameworks/Python.framework/Versions/3.10/lib/python3.10/site-packages (from google-auth<3.0.dev0,>=2.14.1->google-api-core<3.0.0,>=1.0.0->opencensus->ray[data,default]<3,>=2.30.0->qiskit_serverless) (0.3.0)\n",
      "Requirement already satisfied: rsa<5,>=3.1.4 in /Library/Frameworks/Python.framework/Versions/3.10/lib/python3.10/site-packages (from google-auth<3.0.dev0,>=2.14.1->google-api-core<3.0.0,>=1.0.0->opencensus->ray[data,default]<3,>=2.30.0->qiskit_serverless) (4.7.2)\n",
      "Requirement already satisfied: pyasn1<0.6.0,>=0.4.6 in /Library/Frameworks/Python.framework/Versions/3.10/lib/python3.10/site-packages (from pyasn1-modules>=0.2.1->google-auth<3.0.dev0,>=2.14.1->google-api-core<3.0.0,>=1.0.0->opencensus->ray[data,default]<3,>=2.30.0->qiskit_serverless) (0.5.1)\n"
     ]
    },
    {
     "name": "stdout",
     "output_type": "stream",
     "text": [
      "Requirement already satisfied: pylatexenc in /Library/Frameworks/Python.framework/Versions/3.10/lib/python3.10/site-packages (2.10)\n",
      "Requirement already satisfied: qiskit_aer in /Library/Frameworks/Python.framework/Versions/3.10/lib/python3.10/site-packages (0.16.1)\n",
      "Requirement already satisfied: qiskit>=1.1.0 in /Library/Frameworks/Python.framework/Versions/3.10/lib/python3.10/site-packages (from qiskit_aer) (1.3.2)\n",
      "Requirement already satisfied: numpy>=1.16.3 in /Library/Frameworks/Python.framework/Versions/3.10/lib/python3.10/site-packages (from qiskit_aer) (1.26.4)\n",
      "Requirement already satisfied: scipy>=1.0 in /Library/Frameworks/Python.framework/Versions/3.10/lib/python3.10/site-packages (from qiskit_aer) (1.15.1)\n",
      "Requirement already satisfied: psutil>=5 in /Library/Frameworks/Python.framework/Versions/3.10/lib/python3.10/site-packages (from qiskit_aer) (5.9.4)\n",
      "Requirement already satisfied: rustworkx>=0.15.0 in /Library/Frameworks/Python.framework/Versions/3.10/lib/python3.10/site-packages (from qiskit>=1.1.0->qiskit_aer) (0.16.0)\n",
      "Requirement already satisfied: sympy>=1.3 in /Library/Frameworks/Python.framework/Versions/3.10/lib/python3.10/site-packages (from qiskit>=1.1.0->qiskit_aer) (1.10.1)\n",
      "Requirement already satisfied: dill>=0.3 in /Library/Frameworks/Python.framework/Versions/3.10/lib/python3.10/site-packages (from qiskit>=1.1.0->qiskit_aer) (0.3.9)\n",
      "Requirement already satisfied: python-dateutil>=2.8.0 in /Library/Frameworks/Python.framework/Versions/3.10/lib/python3.10/site-packages (from qiskit>=1.1.0->qiskit_aer) (2.8.2)\n",
      "Requirement already satisfied: stevedore>=3.0.0 in /Library/Frameworks/Python.framework/Versions/3.10/lib/python3.10/site-packages (from qiskit>=1.1.0->qiskit_aer) (5.4.0)\n",
      "Requirement already satisfied: typing-extensions in /Library/Frameworks/Python.framework/Versions/3.10/lib/python3.10/site-packages (from qiskit>=1.1.0->qiskit_aer) (4.12.2)\n",
      "Requirement already satisfied: symengine<0.14,>=0.11 in /Library/Frameworks/Python.framework/Versions/3.10/lib/python3.10/site-packages (from qiskit>=1.1.0->qiskit_aer) (0.13.0)\n",
      "Requirement already satisfied: six>=1.5 in /Library/Frameworks/Python.framework/Versions/3.10/lib/python3.10/site-packages (from python-dateutil>=2.8.0->qiskit>=1.1.0->qiskit_aer) (1.16.0)\n",
      "Requirement already satisfied: pbr>=2.0.0 in /Library/Frameworks/Python.framework/Versions/3.10/lib/python3.10/site-packages (from stevedore>=3.0.0->qiskit>=1.1.0->qiskit_aer) (6.1.1)\n",
      "Requirement already satisfied: mpmath>=0.19 in /Library/Frameworks/Python.framework/Versions/3.10/lib/python3.10/site-packages (from sympy>=1.3->qiskit>=1.1.0->qiskit_aer) (1.3.0)\n",
      "Requirement already satisfied: setuptools in /Library/Frameworks/Python.framework/Versions/3.10/lib/python3.10/site-packages (from pbr>=2.0.0->stevedore>=3.0.0->qiskit>=1.1.0->qiskit_aer) (58.1.0)\n"
     ]
    }
   ],
   "source": [
    "!pip install qiskit\n",
    "!pip install qiskit-ibm-runtime\n",
    "!pip install qiskit[visualization]\n",
    "!pip install qiskit_serverless\n",
    "!pip install pylatexenc\n",
    "!pip install qiskit_aer\n",
    "import qiskit_aer\n",
    "from qiskit_aer import Aer"
   ]
  },
  {
   "cell_type": "markdown",
   "id": "c16b27f8",
   "metadata": {},
   "source": [
    "Testing that the library is working correctly"
   ]
  },
  {
   "cell_type": "code",
   "execution_count": 1,
   "id": "cde38975-facd-4db9-8fb4-5df6133ffa1d",
   "metadata": {},
   "outputs": [
    {
     "name": "stdout",
     "output_type": "stream",
     "text": [
      "1.3.2\n"
     ]
    }
   ],
   "source": [
    "import qiskit\n",
    "print(qiskit.__version__)"
   ]
  },
  {
   "cell_type": "markdown",
   "id": "8eb8b78e",
   "metadata": {},
   "source": [
    "Initializing with our personal token for the IBM quantum computer"
   ]
  },
  {
   "cell_type": "code",
   "execution_count": 32,
   "id": "e7a9a7a6-53d0-45dd-b081-9128e5dde512",
   "metadata": {},
   "outputs": [],
   "source": [
    "service = QiskitRuntimeService(channel=\"ibm_quantum\",\n",
    "                               token='')"
   ]
  },
  {
   "cell_type": "code",
   "execution_count": 33,
   "id": "b9635961-484b-43c3-a853-874c10f78c89",
   "metadata": {},
   "outputs": [
    {
     "name": "stdout",
     "output_type": "stream",
     "text": [
      "Number of qubits 127\n"
     ]
    }
   ],
   "source": [
    "backend = service.backend(name='ibm_kyiv')\n",
    "print(\"Number of qubits\", backend.num_qubits)"
   ]
  },
  {
   "cell_type": "markdown",
   "id": "e0781e36",
   "metadata": {},
   "source": [
    "### imports"
   ]
  },
  {
   "cell_type": "code",
   "execution_count": 34,
   "id": "6645bec9-1e8b-45fb-b850-b889ea2939d3",
   "metadata": {},
   "outputs": [],
   "source": [
    "import numpy as np\n",
    "import matplotlib.pyplot as plt\n",
    "from qiskit_ibm_runtime import QiskitRuntimeService\n",
    "from qiskit_ibm_runtime import SamplerV2 as Sampler\n",
    "from qiskit import QuantumCircuit, ClassicalRegister, QuantumRegister\n",
    "from qiskit.primitives import StatevectorSampler\n",
    "from qiskit.visualization import plot_histogram\n",
    "from qiskit.transpiler.preset_passmanagers import generate_preset_pass_manager"
   ]
  },
  {
   "cell_type": "markdown",
   "id": "a733366e",
   "metadata": {},
   "source": [
    "## Description of the Algorithm\n",
    "- We start with state |0, 1> = |0i> ⊗ |1>\n",
    "- we apply the Hadamard transformation H to both bits\n",
    "- then, we apply f;\n",
    "- after that, we again apply the Hadamard transformation to both bits;\n",
    "- finally, we measure the first bit of the resulting 2-bit state:\n",
    "    - if the first bit is 0, we conclude that the function f is constant;\n",
    "    - if the first bit is 1, we conclude that the function f is not constant."
   ]
  },
  {
   "cell_type": "markdown",
   "id": "7ba9a013",
   "metadata": {},
   "source": [
    "## Oracle (Black box)\n",
    "In this algorithm there is a blackbox, which in the description of the algorithm we defined as f(x), the results depends on what is f(x) and helps determine whether the given function is constant or balanced.\n",
    "\n",
    "We can say a given function is:\n",
    "- **Constant** if f(x) returns the same value for all inputs.\n",
    "- **Balanced** if f(x) return 0 for half of the inputs and 1 for the other half."
   ]
  },
  {
   "cell_type": "code",
   "execution_count": 35,
   "id": "45ba044f",
   "metadata": {},
   "outputs": [],
   "source": [
    "# This function chooses a type of oracle at randomly with a \n",
    "# probability half that the oracle will be balanced or constant.\n",
    "def oracle(qc, n):\n",
    "    oracleType = np.random.randint(2)\n",
    "    oracleValue = np.random.randint(2)\n",
    "    # If the type is 0 then it will be either a 0 or 1.\n",
    "    if oracleType == 0:\n",
    "        print(\"The oracle is constant: \", oracleValue)\n",
    "        if oracleValue == 1:\n",
    "            qc.x(n)\n",
    "    else:\n",
    "        # Select a random qubit to control the output\n",
    "        bit_pattern = np.random.randint(1,2**n)\n",
    "        print(\"The oracle is balanced.\")\n",
    "        # Apply the CNOT for each of the qubits that has a 1 in the pattern\n",
    "        for i in range(n):\n",
    "            if bit_pattern & (1 << i):\n",
    "                qc.cx(i, n)"
   ]
  },
  {
   "cell_type": "markdown",
   "id": "cfab367d",
   "metadata": {},
   "source": [
    "## Deutsch-Jozsa \n"
   ]
  },
  {
   "cell_type": "code",
   "execution_count": 36,
   "id": "de470795",
   "metadata": {},
   "outputs": [],
   "source": [
    "#This functions applies the algorithm\n",
    "def deutsch_jozsa(n):\n",
    "    # Construct the quantum registers\n",
    "    # N input qubits + 1 extra bit\n",
    "    qc = QuantumCircuit(n+1, n)\n",
    "    \n",
    "    # Prepare the superposition states by\n",
    "    qc.x(n) # Flip the last qubit to |1⟩\n",
    "    qc.h(range(n+1)) #  Apply Hadamard to all the qubits\n",
    "\n",
    "    #Apply the oracle function\n",
    "    qc.barrier()\n",
    "    oracle(qc,n)\n",
    "    qc.barrier()\n",
    "\n",
    "    #  Apply Hadamard to only the first n qubits not changing the last one\n",
    "    qc.h(range(n))\n",
    "\n",
    "    # Measure the first n qubits\n",
    "    qc.measure(range(n), range(n))\n",
    "    return qc"
   ]
  },
  {
   "cell_type": "code",
   "execution_count": 37,
   "id": "29bfa17f-dca3-4f0a-9e19-ac18875a9eee",
   "metadata": {},
   "outputs": [
    {
     "name": "stdout",
     "output_type": "stream",
     "text": [
      "The oracle is balanced.\n"
     ]
    },
    {
     "data": {
      "image/png": "[encoded data removed]",
      "text/plain": [
       "<Figure size 956.385x451.5 with 1 Axes>"
      ]
     },
     "execution_count": 37,
     "metadata": {},
     "output_type": "execute_result"
    }
   ],
   "source": [
    "n = 3\n",
    "qc = deutsch_jozsa(n)\n",
    "\n",
    "qc.draw('mpl')"
   ]
  },
  {
   "cell_type": "code",
   "execution_count": null,
   "id": "b38a9151",
   "metadata": {},
   "outputs": [],
   "source": []
  },
  {
   "cell_type": "code",
   "execution_count": null,
   "id": "5faf0c02",
   "metadata": {},
   "outputs": [],
   "source": []
  },
  {
   "cell_type": "markdown",
   "id": "af3c444e",
   "metadata": {},
   "source": [
    "## Testing on Quantum Computer"
   ]
  },
  {
   "cell_type": "code",
   "execution_count": 1,
   "id": "46866745",
   "metadata": {},
   "outputs": [
    {
     "ename": "NameError",
     "evalue": "name 'qc' is not defined",
     "output_type": "error",
     "traceback": [
      "\u001b[0;31m---------------------------------------------------------------------------\u001b[0m",
      "\u001b[0;31mNameError\u001b[0m                                 Traceback (most recent call last)",
      "Cell \u001b[0;32mIn[1], line 6\u001b[0m\n\u001b[1;32m      4\u001b[0m \u001b[38;5;66;03m# Estimator runs quantum circuits against defined observables to compute expectation values\u001b[39;00m\n\u001b[1;32m      5\u001b[0m estimator \u001b[38;5;241m=\u001b[39m Estimator()\n\u001b[0;32m----> 6\u001b[0m job \u001b[38;5;241m=\u001b[39m estimator\u001b[38;5;241m.\u001b[39mrun([\u001b[43mqc\u001b[49m] \u001b[38;5;241m*\u001b[39m \u001b[38;5;28mlen\u001b[39m(observables), observables)  \u001b[38;5;66;03m# Executes the circuit multiple times with different observables\u001b[39;00m\n",
      "\u001b[0;31mNameError\u001b[0m: name 'qc' is not defined"
     ]
    }
   ],
   "source": [
    "# ## Execution\n",
    "from qiskit_aer.primitives import Estimator  # Import Estimator for executing circuits\n",
    "\n",
    "# Estimator runs quantum circuits against defined observables to compute expectation values\n",
    "estimator = Estimator()\n",
    "job = estimator.run([qc] * len(observables), observables)  # Executes the circuit multiple times with different observables"
   ]
  },
  {
   "cell_type": "code",
   "execution_count": null,
   "id": "893df0b0",
   "metadata": {},
   "outputs": [],
   "source": [
    "# Retrieve execution results\n",
    "result = job.result()\n",
    "print(\"Measurement Results:\", result)"
   ]
  },
  {
   "cell_type": "code",
   "execution_count": null,
   "id": "060bfa18",
   "metadata": {},
   "outputs": [],
   "source": [
    "job.result().values"
   ]
  }
 ],
 "metadata": {
  "kernelspec": {
   "display_name": "Python 3 (ipykernel)",
   "language": "python",
   "name": "python3"
  },
  "language_info": {
   "codemirror_mode": {
    "name": "ipython",
    "version": 3
   },
   "file_extension": ".py",
   "mimetype": "text/x-python",
   "name": "python",
   "nbconvert_exporter": "python",
   "pygments_lexer": "ipython3",
   "version": "3.10.3"
  }
 },
 "nbformat": 4,
 "nbformat_minor": 5
}

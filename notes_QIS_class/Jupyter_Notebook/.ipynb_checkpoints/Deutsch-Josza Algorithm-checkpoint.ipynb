{
 "cells": [
  {
   "cell_type": "markdown",
   "id": "f82785d1",
   "metadata": {},
   "source": [
    "#  QIS: Lab 1\n",
    "Team members: \n",
    "- Viviana Cadena\n",
    "- Jesus Lopez\n",
    "- Jorge Ortega\n",
    "- Denisse "
   ]
  },
  {
   "cell_type": "markdown",
   "id": "a733366e",
   "metadata": {},
   "source": [
    "# Deutsh-Josza Algorithm\n",
    "- We start with state |0, 1> = |0i> ⊗ |1>\n",
    "- we apply the Hadamard transformation H to both bits\n",
    "- then, we apply f;\n",
    "- after that, we again apply the Hadamard transformation to both bits;\n",
    "- finally, we measure the first bit of the resulting 2-bit state:\n",
    "    - if the first bit is 0, we conclude that the function f is constant;\n",
    "    - if the first bit is 1, we conclude that the function f is not constant."
   ]
  },
  {
   "cell_type": "markdown",
   "id": "08772a1c",
   "metadata": {},
   "source": [
    "## Installation of Qiskit"
   ]
  },
  {
   "cell_type": "code",
   "execution_count": 1,
   "id": "b8ca8563-3734-4820-88a9-ad5d945dfc43",
   "metadata": {},
   "outputs": [
    {
     "name": "stdout",
     "output_type": "stream",
     "text": [
      "Requirement already satisfied: qiskit in /Library/Frameworks/Python.framework/Versions/3.10/lib/python3.10/site-packages (1.3.2)\n",
      "Requirement already satisfied: rustworkx>=0.15.0 in /Library/Frameworks/Python.framework/Versions/3.10/lib/python3.10/site-packages (from qiskit) (0.16.0)\n",
      "Requirement already satisfied: numpy<3,>=1.17 in /Library/Frameworks/Python.framework/Versions/3.10/lib/python3.10/site-packages (from qiskit) (1.26.4)\n",
      "Requirement already satisfied: scipy>=1.5 in /Library/Frameworks/Python.framework/Versions/3.10/lib/python3.10/site-packages (from qiskit) (1.15.1)\n",
      "Requirement already satisfied: sympy>=1.3 in /Library/Frameworks/Python.framework/Versions/3.10/lib/python3.10/site-packages (from qiskit) (1.10.1)\n",
      "Requirement already satisfied: dill>=0.3 in /Library/Frameworks/Python.framework/Versions/3.10/lib/python3.10/site-packages (from qiskit) (0.3.9)\n",
      "Requirement already satisfied: python-dateutil>=2.8.0 in /Library/Frameworks/Python.framework/Versions/3.10/lib/python3.10/site-packages (from qiskit) (2.8.2)\n",
      "Requirement already satisfied: stevedore>=3.0.0 in /Library/Frameworks/Python.framework/Versions/3.10/lib/python3.10/site-packages (from qiskit) (5.4.0)\n",
      "Requirement already satisfied: typing-extensions in /Library/Frameworks/Python.framework/Versions/3.10/lib/python3.10/site-packages (from qiskit) (4.12.2)\n",
      "Requirement already satisfied: symengine<0.14,>=0.11 in /Library/Frameworks/Python.framework/Versions/3.10/lib/python3.10/site-packages (from qiskit) (0.13.0)\n",
      "Requirement already satisfied: six>=1.5 in /Library/Frameworks/Python.framework/Versions/3.10/lib/python3.10/site-packages (from python-dateutil>=2.8.0->qiskit) (1.16.0)\n",
      "Requirement already satisfied: pbr>=2.0.0 in /Library/Frameworks/Python.framework/Versions/3.10/lib/python3.10/site-packages (from stevedore>=3.0.0->qiskit) (6.1.1)\n",
      "Requirement already satisfied: mpmath>=0.19 in /Library/Frameworks/Python.framework/Versions/3.10/lib/python3.10/site-packages (from sympy>=1.3->qiskit) (1.3.0)\n",
      "Requirement already satisfied: setuptools in /Library/Frameworks/Python.framework/Versions/3.10/lib/python3.10/site-packages (from pbr>=2.0.0->stevedore>=3.0.0->qiskit) (58.1.0)\n",
      "Requirement already satisfied: qiskit-ibm-runtime in /Library/Frameworks/Python.framework/Versions/3.10/lib/python3.10/site-packages (0.35.0)\n",
      "Requirement already satisfied: requests>=2.19 in /Library/Frameworks/Python.framework/Versions/3.10/lib/python3.10/site-packages (from qiskit-ibm-runtime) (2.32.3)\n",
      "Requirement already satisfied: requests-ntlm>=1.1.0 in /Library/Frameworks/Python.framework/Versions/3.10/lib/python3.10/site-packages (from qiskit-ibm-runtime) (1.3.0)\n",
      "Requirement already satisfied: numpy>=1.13 in /Library/Frameworks/Python.framework/Versions/3.10/lib/python3.10/site-packages (from qiskit-ibm-runtime) (1.26.4)\n",
      "Requirement already satisfied: urllib3>=1.21.1 in /Library/Frameworks/Python.framework/Versions/3.10/lib/python3.10/site-packages (from qiskit-ibm-runtime) (2.3.0)\n",
      "Requirement already satisfied: python-dateutil>=2.8.0 in /Library/Frameworks/Python.framework/Versions/3.10/lib/python3.10/site-packages (from qiskit-ibm-runtime) (2.8.2)\n",
      "Requirement already satisfied: websocket-client>=1.5.1 in /Library/Frameworks/Python.framework/Versions/3.10/lib/python3.10/site-packages (from qiskit-ibm-runtime) (1.5.1)\n",
      "Requirement already satisfied: ibm-platform-services>=0.22.6 in /Library/Frameworks/Python.framework/Versions/3.10/lib/python3.10/site-packages (from qiskit-ibm-runtime) (0.59.1)\n",
      "Requirement already satisfied: pydantic<2.10,>=2.5.0 in /Library/Frameworks/Python.framework/Versions/3.10/lib/python3.10/site-packages (from qiskit-ibm-runtime) (2.9.2)\n",
      "Requirement already satisfied: qiskit>=1.1.0 in /Library/Frameworks/Python.framework/Versions/3.10/lib/python3.10/site-packages (from qiskit-ibm-runtime) (1.3.2)\n",
      "Requirement already satisfied: ibm_cloud_sdk_core<4.0.0,>=3.22.0 in /Library/Frameworks/Python.framework/Versions/3.10/lib/python3.10/site-packages (from ibm-platform-services>=0.22.6->qiskit-ibm-runtime) (3.22.1)\n",
      "Requirement already satisfied: annotated-types>=0.6.0 in /Library/Frameworks/Python.framework/Versions/3.10/lib/python3.10/site-packages (from pydantic<2.10,>=2.5.0->qiskit-ibm-runtime) (0.7.0)\n",
      "Requirement already satisfied: pydantic-core==2.23.4 in /Library/Frameworks/Python.framework/Versions/3.10/lib/python3.10/site-packages (from pydantic<2.10,>=2.5.0->qiskit-ibm-runtime) (2.23.4)\n",
      "Requirement already satisfied: typing-extensions>=4.6.1 in /Library/Frameworks/Python.framework/Versions/3.10/lib/python3.10/site-packages (from pydantic<2.10,>=2.5.0->qiskit-ibm-runtime) (4.12.2)\n",
      "Requirement already satisfied: six>=1.5 in /Library/Frameworks/Python.framework/Versions/3.10/lib/python3.10/site-packages (from python-dateutil>=2.8.0->qiskit-ibm-runtime) (1.16.0)\n",
      "Requirement already satisfied: rustworkx>=0.15.0 in /Library/Frameworks/Python.framework/Versions/3.10/lib/python3.10/site-packages (from qiskit>=1.1.0->qiskit-ibm-runtime) (0.16.0)\n",
      "Requirement already satisfied: scipy>=1.5 in /Library/Frameworks/Python.framework/Versions/3.10/lib/python3.10/site-packages (from qiskit>=1.1.0->qiskit-ibm-runtime) (1.15.1)\n",
      "Requirement already satisfied: sympy>=1.3 in /Library/Frameworks/Python.framework/Versions/3.10/lib/python3.10/site-packages (from qiskit>=1.1.0->qiskit-ibm-runtime) (1.10.1)\n",
      "Requirement already satisfied: dill>=0.3 in /Library/Frameworks/Python.framework/Versions/3.10/lib/python3.10/site-packages (from qiskit>=1.1.0->qiskit-ibm-runtime) (0.3.9)\n",
      "Requirement already satisfied: stevedore>=3.0.0 in /Library/Frameworks/Python.framework/Versions/3.10/lib/python3.10/site-packages (from qiskit>=1.1.0->qiskit-ibm-runtime) (5.4.0)\n",
      "Requirement already satisfied: symengine<0.14,>=0.11 in /Library/Frameworks/Python.framework/Versions/3.10/lib/python3.10/site-packages (from qiskit>=1.1.0->qiskit-ibm-runtime) (0.13.0)\n",
      "Requirement already satisfied: charset-normalizer<4,>=2 in /Users/lopez/Library/Python/3.10/lib/python/site-packages (from requests>=2.19->qiskit-ibm-runtime) (2.0.12)\n",
      "Requirement already satisfied: idna<4,>=2.5 in /Users/lopez/Library/Python/3.10/lib/python/site-packages (from requests>=2.19->qiskit-ibm-runtime) (3.3)\n",
      "Requirement already satisfied: certifi>=2017.4.17 in /Users/lopez/Library/Python/3.10/lib/python/site-packages (from requests>=2.19->qiskit-ibm-runtime) (2021.10.8)\n",
      "Requirement already satisfied: cryptography>=1.3 in /Library/Frameworks/Python.framework/Versions/3.10/lib/python3.10/site-packages (from requests-ntlm>=1.1.0->qiskit-ibm-runtime) (44.0.1)\n",
      "Requirement already satisfied: pyspnego>=0.4.0 in /Library/Frameworks/Python.framework/Versions/3.10/lib/python3.10/site-packages (from requests-ntlm>=1.1.0->qiskit-ibm-runtime) (0.11.2)\n",
      "Requirement already satisfied: cffi>=1.12 in /Library/Frameworks/Python.framework/Versions/3.10/lib/python3.10/site-packages (from cryptography>=1.3->requests-ntlm>=1.1.0->qiskit-ibm-runtime) (1.15.1)\n",
      "Requirement already satisfied: PyJWT<3.0.0,>=2.8.0 in /Library/Frameworks/Python.framework/Versions/3.10/lib/python3.10/site-packages (from ibm_cloud_sdk_core<4.0.0,>=3.22.0->ibm-platform-services>=0.22.6->qiskit-ibm-runtime) (2.10.1)\n",
      "Requirement already satisfied: pbr>=2.0.0 in /Library/Frameworks/Python.framework/Versions/3.10/lib/python3.10/site-packages (from stevedore>=3.0.0->qiskit>=1.1.0->qiskit-ibm-runtime) (6.1.1)\n",
      "Requirement already satisfied: mpmath>=0.19 in /Library/Frameworks/Python.framework/Versions/3.10/lib/python3.10/site-packages (from sympy>=1.3->qiskit>=1.1.0->qiskit-ibm-runtime) (1.3.0)\n",
      "Requirement already satisfied: pycparser in /Library/Frameworks/Python.framework/Versions/3.10/lib/python3.10/site-packages (from cffi>=1.12->cryptography>=1.3->requests-ntlm>=1.1.0->qiskit-ibm-runtime) (2.21)\n",
      "Requirement already satisfied: setuptools in /Library/Frameworks/Python.framework/Versions/3.10/lib/python3.10/site-packages (from pbr>=2.0.0->stevedore>=3.0.0->qiskit>=1.1.0->qiskit-ibm-runtime) (58.1.0)\n",
      "zsh:1: no matches found: qiskit[visualization]\n",
      "Requirement already satisfied: qiskit_serverless in /Library/Frameworks/Python.framework/Versions/3.10/lib/python3.10/site-packages (0.14.2)\n",
      "Requirement already satisfied: ray<3,>=2.30.0 in /Library/Frameworks/Python.framework/Versions/3.10/lib/python3.10/site-packages (from ray[data,default]<3,>=2.30.0->qiskit_serverless) (2.42.1)\n",
      "Requirement already satisfied: requests>=2.32.2 in /Library/Frameworks/Python.framework/Versions/3.10/lib/python3.10/site-packages (from qiskit_serverless) (2.32.3)\n",
      "Requirement already satisfied: importlib-metadata>=5.2.0 in /Library/Frameworks/Python.framework/Versions/3.10/lib/python3.10/site-packages (from qiskit_serverless) (8.5.0)\n",
      "Requirement already satisfied: qiskit>=1.0.2 in /Library/Frameworks/Python.framework/Versions/3.10/lib/python3.10/site-packages (from qiskit_serverless) (1.3.2)\n",
      "Requirement already satisfied: qiskit-ibm-runtime>=0.21.1 in /Library/Frameworks/Python.framework/Versions/3.10/lib/python3.10/site-packages (from qiskit_serverless) (0.35.0)\n",
      "Requirement already satisfied: cloudpickle==2.2.1 in /Library/Frameworks/Python.framework/Versions/3.10/lib/python3.10/site-packages (from qiskit_serverless) (2.2.1)\n",
      "Requirement already satisfied: tqdm>=4.66.3 in /Library/Frameworks/Python.framework/Versions/3.10/lib/python3.10/site-packages (from qiskit_serverless) (4.67.1)\n",
      "Requirement already satisfied: opentelemetry-api>=1.18.0 in /Library/Frameworks/Python.framework/Versions/3.10/lib/python3.10/site-packages (from qiskit_serverless) (1.30.0)\n",
      "Requirement already satisfied: opentelemetry-sdk>=1.18.0 in /Library/Frameworks/Python.framework/Versions/3.10/lib/python3.10/site-packages (from qiskit_serverless) (1.30.0)\n",
      "Requirement already satisfied: opentelemetry-exporter-otlp-proto-grpc>=1.18.0 in /Library/Frameworks/Python.framework/Versions/3.10/lib/python3.10/site-packages (from qiskit_serverless) (1.30.0)\n",
      "Requirement already satisfied: s3fs>=2023.6.0 in /Library/Frameworks/Python.framework/Versions/3.10/lib/python3.10/site-packages (from qiskit_serverless) (2025.2.0)\n",
      "Requirement already satisfied: opentelemetry.instrumentation.requests>=0.40b0 in /Library/Frameworks/Python.framework/Versions/3.10/lib/python3.10/site-packages (from qiskit_serverless) (0.51b0)\n",
      "Requirement already satisfied: ipywidgets>=8.1.2 in /Library/Frameworks/Python.framework/Versions/3.10/lib/python3.10/site-packages (from qiskit_serverless) (8.1.5)\n",
      "Requirement already satisfied: ipython>=8.10.0 in /Library/Frameworks/Python.framework/Versions/3.10/lib/python3.10/site-packages (from qiskit_serverless) (8.12.0)\n",
      "Requirement already satisfied: zipp>=3.20 in /Library/Frameworks/Python.framework/Versions/3.10/lib/python3.10/site-packages (from importlib-metadata>=5.2.0->qiskit_serverless) (3.21.0)\n",
      "Requirement already satisfied: backcall in /Library/Frameworks/Python.framework/Versions/3.10/lib/python3.10/site-packages (from ipython>=8.10.0->qiskit_serverless) (0.2.0)\n"
     ]
    },
    {
     "name": "stdout",
     "output_type": "stream",
     "text": [
      "Requirement already satisfied: decorator in /Library/Frameworks/Python.framework/Versions/3.10/lib/python3.10/site-packages (from ipython>=8.10.0->qiskit_serverless) (5.1.1)\n",
      "Requirement already satisfied: jedi>=0.16 in /Library/Frameworks/Python.framework/Versions/3.10/lib/python3.10/site-packages (from ipython>=8.10.0->qiskit_serverless) (0.18.2)\n",
      "Requirement already satisfied: matplotlib-inline in /Library/Frameworks/Python.framework/Versions/3.10/lib/python3.10/site-packages (from ipython>=8.10.0->qiskit_serverless) (0.1.6)\n",
      "Requirement already satisfied: pickleshare in /Library/Frameworks/Python.framework/Versions/3.10/lib/python3.10/site-packages (from ipython>=8.10.0->qiskit_serverless) (0.7.5)\n",
      "Requirement already satisfied: prompt-toolkit!=3.0.37,<3.1.0,>=3.0.30 in /Library/Frameworks/Python.framework/Versions/3.10/lib/python3.10/site-packages (from ipython>=8.10.0->qiskit_serverless) (3.0.38)\n",
      "Requirement already satisfied: pygments>=2.4.0 in /Library/Frameworks/Python.framework/Versions/3.10/lib/python3.10/site-packages (from ipython>=8.10.0->qiskit_serverless) (2.14.0)\n",
      "Requirement already satisfied: stack-data in /Library/Frameworks/Python.framework/Versions/3.10/lib/python3.10/site-packages (from ipython>=8.10.0->qiskit_serverless) (0.6.2)\n",
      "Requirement already satisfied: traitlets>=5 in /Library/Frameworks/Python.framework/Versions/3.10/lib/python3.10/site-packages (from ipython>=8.10.0->qiskit_serverless) (5.9.0)\n",
      "Requirement already satisfied: pexpect>4.3 in /Library/Frameworks/Python.framework/Versions/3.10/lib/python3.10/site-packages (from ipython>=8.10.0->qiskit_serverless) (4.8.0)\n",
      "Requirement already satisfied: appnope in /Library/Frameworks/Python.framework/Versions/3.10/lib/python3.10/site-packages (from ipython>=8.10.0->qiskit_serverless) (0.1.3)\n",
      "Requirement already satisfied: comm>=0.1.3 in /Library/Frameworks/Python.framework/Versions/3.10/lib/python3.10/site-packages (from ipywidgets>=8.1.2->qiskit_serverless) (0.1.3)\n",
      "Requirement already satisfied: widgetsnbextension~=4.0.12 in /Library/Frameworks/Python.framework/Versions/3.10/lib/python3.10/site-packages (from ipywidgets>=8.1.2->qiskit_serverless) (4.0.13)\n",
      "Requirement already satisfied: jupyterlab-widgets~=3.0.12 in /Library/Frameworks/Python.framework/Versions/3.10/lib/python3.10/site-packages (from ipywidgets>=8.1.2->qiskit_serverless) (3.0.13)\n",
      "Requirement already satisfied: deprecated>=1.2.6 in /Library/Frameworks/Python.framework/Versions/3.10/lib/python3.10/site-packages (from opentelemetry-api>=1.18.0->qiskit_serverless) (1.2.18)\n",
      "Requirement already satisfied: googleapis-common-protos~=1.52 in /Library/Frameworks/Python.framework/Versions/3.10/lib/python3.10/site-packages (from opentelemetry-exporter-otlp-proto-grpc>=1.18.0->qiskit_serverless) (1.67.0)\n",
      "Requirement already satisfied: grpcio<2.0.0,>=1.63.2 in /Library/Frameworks/Python.framework/Versions/3.10/lib/python3.10/site-packages (from opentelemetry-exporter-otlp-proto-grpc>=1.18.0->qiskit_serverless) (1.70.0)\n",
      "Requirement already satisfied: opentelemetry-exporter-otlp-proto-common==1.30.0 in /Library/Frameworks/Python.framework/Versions/3.10/lib/python3.10/site-packages (from opentelemetry-exporter-otlp-proto-grpc>=1.18.0->qiskit_serverless) (1.30.0)\n",
      "Requirement already satisfied: opentelemetry-proto==1.30.0 in /Library/Frameworks/Python.framework/Versions/3.10/lib/python3.10/site-packages (from opentelemetry-exporter-otlp-proto-grpc>=1.18.0->qiskit_serverless) (1.30.0)\n",
      "Requirement already satisfied: protobuf<6.0,>=5.0 in /Library/Frameworks/Python.framework/Versions/3.10/lib/python3.10/site-packages (from opentelemetry-proto==1.30.0->opentelemetry-exporter-otlp-proto-grpc>=1.18.0->qiskit_serverless) (5.29.3)\n",
      "Requirement already satisfied: opentelemetry-instrumentation==0.51b0 in /Library/Frameworks/Python.framework/Versions/3.10/lib/python3.10/site-packages (from opentelemetry.instrumentation.requests>=0.40b0->qiskit_serverless) (0.51b0)\n",
      "Requirement already satisfied: opentelemetry-semantic-conventions==0.51b0 in /Library/Frameworks/Python.framework/Versions/3.10/lib/python3.10/site-packages (from opentelemetry.instrumentation.requests>=0.40b0->qiskit_serverless) (0.51b0)\n",
      "Requirement already satisfied: opentelemetry-util-http==0.51b0 in /Library/Frameworks/Python.framework/Versions/3.10/lib/python3.10/site-packages (from opentelemetry.instrumentation.requests>=0.40b0->qiskit_serverless) (0.51b0)\n",
      "Requirement already satisfied: packaging>=18.0 in /Library/Frameworks/Python.framework/Versions/3.10/lib/python3.10/site-packages (from opentelemetry-instrumentation==0.51b0->opentelemetry.instrumentation.requests>=0.40b0->qiskit_serverless) (23.0)\n",
      "Requirement already satisfied: wrapt<2.0.0,>=1.0.0 in /Library/Frameworks/Python.framework/Versions/3.10/lib/python3.10/site-packages (from opentelemetry-instrumentation==0.51b0->opentelemetry.instrumentation.requests>=0.40b0->qiskit_serverless) (1.14.1)\n",
      "Requirement already satisfied: typing-extensions>=3.7.4 in /Library/Frameworks/Python.framework/Versions/3.10/lib/python3.10/site-packages (from opentelemetry-sdk>=1.18.0->qiskit_serverless) (4.12.2)\n",
      "Requirement already satisfied: rustworkx>=0.15.0 in /Library/Frameworks/Python.framework/Versions/3.10/lib/python3.10/site-packages (from qiskit>=1.0.2->qiskit_serverless) (0.16.0)\n",
      "Requirement already satisfied: numpy<3,>=1.17 in /Library/Frameworks/Python.framework/Versions/3.10/lib/python3.10/site-packages (from qiskit>=1.0.2->qiskit_serverless) (1.26.4)\n",
      "Requirement already satisfied: scipy>=1.5 in /Library/Frameworks/Python.framework/Versions/3.10/lib/python3.10/site-packages (from qiskit>=1.0.2->qiskit_serverless) (1.15.1)\n",
      "Requirement already satisfied: sympy>=1.3 in /Library/Frameworks/Python.framework/Versions/3.10/lib/python3.10/site-packages (from qiskit>=1.0.2->qiskit_serverless) (1.10.1)\n",
      "Requirement already satisfied: dill>=0.3 in /Library/Frameworks/Python.framework/Versions/3.10/lib/python3.10/site-packages (from qiskit>=1.0.2->qiskit_serverless) (0.3.9)\n",
      "Requirement already satisfied: python-dateutil>=2.8.0 in /Library/Frameworks/Python.framework/Versions/3.10/lib/python3.10/site-packages (from qiskit>=1.0.2->qiskit_serverless) (2.8.2)\n",
      "Requirement already satisfied: stevedore>=3.0.0 in /Library/Frameworks/Python.framework/Versions/3.10/lib/python3.10/site-packages (from qiskit>=1.0.2->qiskit_serverless) (5.4.0)\n",
      "Requirement already satisfied: symengine<0.14,>=0.11 in /Library/Frameworks/Python.framework/Versions/3.10/lib/python3.10/site-packages (from qiskit>=1.0.2->qiskit_serverless) (0.13.0)\n",
      "Requirement already satisfied: requests-ntlm>=1.1.0 in /Library/Frameworks/Python.framework/Versions/3.10/lib/python3.10/site-packages (from qiskit-ibm-runtime>=0.21.1->qiskit_serverless) (1.3.0)\n",
      "Requirement already satisfied: urllib3>=1.21.1 in /Library/Frameworks/Python.framework/Versions/3.10/lib/python3.10/site-packages (from qiskit-ibm-runtime>=0.21.1->qiskit_serverless) (2.3.0)\n",
      "Requirement already satisfied: websocket-client>=1.5.1 in /Library/Frameworks/Python.framework/Versions/3.10/lib/python3.10/site-packages (from qiskit-ibm-runtime>=0.21.1->qiskit_serverless) (1.5.1)\n",
      "Requirement already satisfied: ibm-platform-services>=0.22.6 in /Library/Frameworks/Python.framework/Versions/3.10/lib/python3.10/site-packages (from qiskit-ibm-runtime>=0.21.1->qiskit_serverless) (0.59.1)\n",
      "Requirement already satisfied: pydantic<2.10,>=2.5.0 in /Library/Frameworks/Python.framework/Versions/3.10/lib/python3.10/site-packages (from qiskit-ibm-runtime>=0.21.1->qiskit_serverless) (2.9.2)\n",
      "Requirement already satisfied: click>=7.0 in /Library/Frameworks/Python.framework/Versions/3.10/lib/python3.10/site-packages (from ray<3,>=2.30.0->ray[data,default]<3,>=2.30.0->qiskit_serverless) (8.1.7)\n",
      "Requirement already satisfied: filelock in /Library/Frameworks/Python.framework/Versions/3.10/lib/python3.10/site-packages (from ray<3,>=2.30.0->ray[data,default]<3,>=2.30.0->qiskit_serverless) (3.17.0)\n",
      "Requirement already satisfied: jsonschema in /Library/Frameworks/Python.framework/Versions/3.10/lib/python3.10/site-packages (from ray<3,>=2.30.0->ray[data,default]<3,>=2.30.0->qiskit_serverless) (4.17.3)\n",
      "Requirement already satisfied: msgpack<2.0.0,>=1.0.0 in /Users/lopez/Library/Python/3.10/lib/python/site-packages (from ray<3,>=2.30.0->ray[data,default]<3,>=2.30.0->qiskit_serverless) (1.0.7)\n",
      "Requirement already satisfied: pyyaml in /Library/Frameworks/Python.framework/Versions/3.10/lib/python3.10/site-packages (from ray<3,>=2.30.0->ray[data,default]<3,>=2.30.0->qiskit_serverless) (6.0)\n",
      "Requirement already satisfied: aiosignal in /Library/Frameworks/Python.framework/Versions/3.10/lib/python3.10/site-packages (from ray<3,>=2.30.0->ray[data,default]<3,>=2.30.0->qiskit_serverless) (1.3.2)\n",
      "Requirement already satisfied: frozenlist in /Library/Frameworks/Python.framework/Versions/3.10/lib/python3.10/site-packages (from ray<3,>=2.30.0->ray[data,default]<3,>=2.30.0->qiskit_serverless) (1.5.0)\n",
      "Requirement already satisfied: pandas>=1.3 in /Library/Frameworks/Python.framework/Versions/3.10/lib/python3.10/site-packages (from ray[data,default]<3,>=2.30.0->qiskit_serverless) (1.5.3)\n",
      "Requirement already satisfied: pyarrow>=9.0.0 in /Library/Frameworks/Python.framework/Versions/3.10/lib/python3.10/site-packages (from ray[data,default]<3,>=2.30.0->qiskit_serverless) (19.0.0)\n",
      "Requirement already satisfied: fsspec in /Library/Frameworks/Python.framework/Versions/3.10/lib/python3.10/site-packages (from ray[data,default]<3,>=2.30.0->qiskit_serverless) (2025.2.0)\n",
      "Requirement already satisfied: aiohttp>=3.7 in /Library/Frameworks/Python.framework/Versions/3.10/lib/python3.10/site-packages (from ray[data,default]<3,>=2.30.0->qiskit_serverless) (3.11.12)\n",
      "Requirement already satisfied: aiohttp-cors in /Library/Frameworks/Python.framework/Versions/3.10/lib/python3.10/site-packages (from ray[data,default]<3,>=2.30.0->qiskit_serverless) (0.7.0)\n",
      "Requirement already satisfied: colorful in /Library/Frameworks/Python.framework/Versions/3.10/lib/python3.10/site-packages (from ray[data,default]<3,>=2.30.0->qiskit_serverless) (0.5.6)\n",
      "Requirement already satisfied: opencensus in /Library/Frameworks/Python.framework/Versions/3.10/lib/python3.10/site-packages (from ray[data,default]<3,>=2.30.0->qiskit_serverless) (0.11.4)\n",
      "Requirement already satisfied: prometheus-client>=0.7.1 in /Library/Frameworks/Python.framework/Versions/3.10/lib/python3.10/site-packages (from ray[data,default]<3,>=2.30.0->qiskit_serverless) (0.16.0)\n",
      "Requirement already satisfied: smart-open in /Library/Frameworks/Python.framework/Versions/3.10/lib/python3.10/site-packages (from ray[data,default]<3,>=2.30.0->qiskit_serverless) (7.1.0)\n",
      "Requirement already satisfied: virtualenv!=20.21.1,>=20.0.24 in /Library/Frameworks/Python.framework/Versions/3.10/lib/python3.10/site-packages (from ray[data,default]<3,>=2.30.0->qiskit_serverless) (20.29.2)\n",
      "Requirement already satisfied: py-spy>=0.2.0 in /Library/Frameworks/Python.framework/Versions/3.10/lib/python3.10/site-packages (from ray[data,default]<3,>=2.30.0->qiskit_serverless) (0.4.0)\n",
      "Requirement already satisfied: charset-normalizer<4,>=2 in /Users/lopez/Library/Python/3.10/lib/python/site-packages (from requests>=2.32.2->qiskit_serverless) (2.0.12)\n",
      "Requirement already satisfied: idna<4,>=2.5 in /Users/lopez/Library/Python/3.10/lib/python/site-packages (from requests>=2.32.2->qiskit_serverless) (3.3)\n",
      "Requirement already satisfied: certifi>=2017.4.17 in /Users/lopez/Library/Python/3.10/lib/python/site-packages (from requests>=2.32.2->qiskit_serverless) (2021.10.8)\n",
      "Requirement already satisfied: aiobotocore<3.0.0,>=2.5.4 in /Library/Frameworks/Python.framework/Versions/3.10/lib/python3.10/site-packages (from s3fs>=2023.6.0->qiskit_serverless) (2.19.0)\n"
     ]
    },
    {
     "name": "stdout",
     "output_type": "stream",
     "text": [
      "Requirement already satisfied: aioitertools<1.0.0,>=0.5.1 in /Library/Frameworks/Python.framework/Versions/3.10/lib/python3.10/site-packages (from aiobotocore<3.0.0,>=2.5.4->s3fs>=2023.6.0->qiskit_serverless) (0.12.0)\n",
      "Requirement already satisfied: botocore<1.36.4,>=1.36.0 in /Library/Frameworks/Python.framework/Versions/3.10/lib/python3.10/site-packages (from aiobotocore<3.0.0,>=2.5.4->s3fs>=2023.6.0->qiskit_serverless) (1.36.3)\n",
      "Requirement already satisfied: jmespath<2.0.0,>=0.7.1 in /Library/Frameworks/Python.framework/Versions/3.10/lib/python3.10/site-packages (from aiobotocore<3.0.0,>=2.5.4->s3fs>=2023.6.0->qiskit_serverless) (1.0.1)\n",
      "Requirement already satisfied: multidict<7.0.0,>=6.0.0 in /Library/Frameworks/Python.framework/Versions/3.10/lib/python3.10/site-packages (from aiobotocore<3.0.0,>=2.5.4->s3fs>=2023.6.0->qiskit_serverless) (6.1.0)\n",
      "Requirement already satisfied: aiohappyeyeballs>=2.3.0 in /Library/Frameworks/Python.framework/Versions/3.10/lib/python3.10/site-packages (from aiohttp>=3.7->ray[data,default]<3,>=2.30.0->qiskit_serverless) (2.4.6)\n",
      "Requirement already satisfied: async-timeout<6.0,>=4.0 in /Library/Frameworks/Python.framework/Versions/3.10/lib/python3.10/site-packages (from aiohttp>=3.7->ray[data,default]<3,>=2.30.0->qiskit_serverless) (5.0.1)\n",
      "Requirement already satisfied: attrs>=17.3.0 in /Library/Frameworks/Python.framework/Versions/3.10/lib/python3.10/site-packages (from aiohttp>=3.7->ray[data,default]<3,>=2.30.0->qiskit_serverless) (22.2.0)\n",
      "Requirement already satisfied: propcache>=0.2.0 in /Library/Frameworks/Python.framework/Versions/3.10/lib/python3.10/site-packages (from aiohttp>=3.7->ray[data,default]<3,>=2.30.0->qiskit_serverless) (0.2.1)\n",
      "Requirement already satisfied: yarl<2.0,>=1.17.0 in /Library/Frameworks/Python.framework/Versions/3.10/lib/python3.10/site-packages (from aiohttp>=3.7->ray[data,default]<3,>=2.30.0->qiskit_serverless) (1.18.3)\n",
      "Requirement already satisfied: ibm_cloud_sdk_core<4.0.0,>=3.22.0 in /Library/Frameworks/Python.framework/Versions/3.10/lib/python3.10/site-packages (from ibm-platform-services>=0.22.6->qiskit-ibm-runtime>=0.21.1->qiskit_serverless) (3.22.1)\n",
      "Requirement already satisfied: parso<0.9.0,>=0.8.0 in /Library/Frameworks/Python.framework/Versions/3.10/lib/python3.10/site-packages (from jedi>=0.16->ipython>=8.10.0->qiskit_serverless) (0.8.3)\n",
      "Requirement already satisfied: pytz>=2020.1 in /Library/Frameworks/Python.framework/Versions/3.10/lib/python3.10/site-packages (from pandas>=1.3->ray[data,default]<3,>=2.30.0->qiskit_serverless) (2023.3)\n",
      "Requirement already satisfied: ptyprocess>=0.5 in /Library/Frameworks/Python.framework/Versions/3.10/lib/python3.10/site-packages (from pexpect>4.3->ipython>=8.10.0->qiskit_serverless) (0.7.0)\n",
      "Requirement already satisfied: wcwidth in /Library/Frameworks/Python.framework/Versions/3.10/lib/python3.10/site-packages (from prompt-toolkit!=3.0.37,<3.1.0,>=3.0.30->ipython>=8.10.0->qiskit_serverless) (0.2.6)\n",
      "Requirement already satisfied: annotated-types>=0.6.0 in /Library/Frameworks/Python.framework/Versions/3.10/lib/python3.10/site-packages (from pydantic<2.10,>=2.5.0->qiskit-ibm-runtime>=0.21.1->qiskit_serverless) (0.7.0)\n",
      "Requirement already satisfied: pydantic-core==2.23.4 in /Library/Frameworks/Python.framework/Versions/3.10/lib/python3.10/site-packages (from pydantic<2.10,>=2.5.0->qiskit-ibm-runtime>=0.21.1->qiskit_serverless) (2.23.4)\n",
      "Requirement already satisfied: six>=1.5 in /Library/Frameworks/Python.framework/Versions/3.10/lib/python3.10/site-packages (from python-dateutil>=2.8.0->qiskit>=1.0.2->qiskit_serverless) (1.16.0)\n",
      "Requirement already satisfied: cryptography>=1.3 in /Library/Frameworks/Python.framework/Versions/3.10/lib/python3.10/site-packages (from requests-ntlm>=1.1.0->qiskit-ibm-runtime>=0.21.1->qiskit_serverless) (44.0.1)\n",
      "Requirement already satisfied: pyspnego>=0.4.0 in /Library/Frameworks/Python.framework/Versions/3.10/lib/python3.10/site-packages (from requests-ntlm>=1.1.0->qiskit-ibm-runtime>=0.21.1->qiskit_serverless) (0.11.2)\n",
      "Requirement already satisfied: pbr>=2.0.0 in /Library/Frameworks/Python.framework/Versions/3.10/lib/python3.10/site-packages (from stevedore>=3.0.0->qiskit>=1.0.2->qiskit_serverless) (6.1.1)\n",
      "Requirement already satisfied: mpmath>=0.19 in /Library/Frameworks/Python.framework/Versions/3.10/lib/python3.10/site-packages (from sympy>=1.3->qiskit>=1.0.2->qiskit_serverless) (1.3.0)\n",
      "Requirement already satisfied: distlib<1,>=0.3.7 in /Library/Frameworks/Python.framework/Versions/3.10/lib/python3.10/site-packages (from virtualenv!=20.21.1,>=20.0.24->ray[data,default]<3,>=2.30.0->qiskit_serverless) (0.3.9)\n",
      "Requirement already satisfied: platformdirs<5,>=3.9.1 in /Library/Frameworks/Python.framework/Versions/3.10/lib/python3.10/site-packages (from virtualenv!=20.21.1,>=20.0.24->ray[data,default]<3,>=2.30.0->qiskit_serverless) (4.3.6)\n",
      "Requirement already satisfied: pyrsistent!=0.17.0,!=0.17.1,!=0.17.2,>=0.14.0 in /Library/Frameworks/Python.framework/Versions/3.10/lib/python3.10/site-packages (from jsonschema->ray<3,>=2.30.0->ray[data,default]<3,>=2.30.0->qiskit_serverless) (0.19.3)\n",
      "Requirement already satisfied: opencensus-context>=0.1.3 in /Library/Frameworks/Python.framework/Versions/3.10/lib/python3.10/site-packages (from opencensus->ray[data,default]<3,>=2.30.0->qiskit_serverless) (0.1.3)\n",
      "Requirement already satisfied: google-api-core<3.0.0,>=1.0.0 in /Library/Frameworks/Python.framework/Versions/3.10/lib/python3.10/site-packages (from opencensus->ray[data,default]<3,>=2.30.0->qiskit_serverless) (2.24.1)\n",
      "Requirement already satisfied: executing>=1.2.0 in /Library/Frameworks/Python.framework/Versions/3.10/lib/python3.10/site-packages (from stack-data->ipython>=8.10.0->qiskit_serverless) (1.2.0)\n",
      "Requirement already satisfied: asttokens>=2.1.0 in /Library/Frameworks/Python.framework/Versions/3.10/lib/python3.10/site-packages (from stack-data->ipython>=8.10.0->qiskit_serverless) (2.2.1)\n",
      "Requirement already satisfied: pure-eval in /Library/Frameworks/Python.framework/Versions/3.10/lib/python3.10/site-packages (from stack-data->ipython>=8.10.0->qiskit_serverless) (0.2.2)\n",
      "Requirement already satisfied: cffi>=1.12 in /Library/Frameworks/Python.framework/Versions/3.10/lib/python3.10/site-packages (from cryptography>=1.3->requests-ntlm>=1.1.0->qiskit-ibm-runtime>=0.21.1->qiskit_serverless) (1.15.1)\n",
      "Requirement already satisfied: proto-plus<2.0.0dev,>=1.22.3 in /Library/Frameworks/Python.framework/Versions/3.10/lib/python3.10/site-packages (from google-api-core<3.0.0,>=1.0.0->opencensus->ray[data,default]<3,>=2.30.0->qiskit_serverless) (1.26.0)\n",
      "Requirement already satisfied: google-auth<3.0.dev0,>=2.14.1 in /Library/Frameworks/Python.framework/Versions/3.10/lib/python3.10/site-packages (from google-api-core<3.0.0,>=1.0.0->opencensus->ray[data,default]<3,>=2.30.0->qiskit_serverless) (2.28.0)\n",
      "Requirement already satisfied: PyJWT<3.0.0,>=2.8.0 in /Library/Frameworks/Python.framework/Versions/3.10/lib/python3.10/site-packages (from ibm_cloud_sdk_core<4.0.0,>=3.22.0->ibm-platform-services>=0.22.6->qiskit-ibm-runtime>=0.21.1->qiskit_serverless) (2.10.1)\n",
      "Requirement already satisfied: setuptools in /Library/Frameworks/Python.framework/Versions/3.10/lib/python3.10/site-packages (from pbr>=2.0.0->stevedore>=3.0.0->qiskit>=1.0.2->qiskit_serverless) (58.1.0)\n",
      "Requirement already satisfied: pycparser in /Library/Frameworks/Python.framework/Versions/3.10/lib/python3.10/site-packages (from cffi>=1.12->cryptography>=1.3->requests-ntlm>=1.1.0->qiskit-ibm-runtime>=0.21.1->qiskit_serverless) (2.21)\n",
      "Requirement already satisfied: cachetools<6.0,>=2.0.0 in /Library/Frameworks/Python.framework/Versions/3.10/lib/python3.10/site-packages (from google-auth<3.0.dev0,>=2.14.1->google-api-core<3.0.0,>=1.0.0->opencensus->ray[data,default]<3,>=2.30.0->qiskit_serverless) (5.3.2)\n",
      "Requirement already satisfied: pyasn1-modules>=0.2.1 in /Library/Frameworks/Python.framework/Versions/3.10/lib/python3.10/site-packages (from google-auth<3.0.dev0,>=2.14.1->google-api-core<3.0.0,>=1.0.0->opencensus->ray[data,default]<3,>=2.30.0->qiskit_serverless) (0.3.0)\n",
      "Requirement already satisfied: rsa<5,>=3.1.4 in /Library/Frameworks/Python.framework/Versions/3.10/lib/python3.10/site-packages (from google-auth<3.0.dev0,>=2.14.1->google-api-core<3.0.0,>=1.0.0->opencensus->ray[data,default]<3,>=2.30.0->qiskit_serverless) (4.7.2)\n",
      "Requirement already satisfied: pyasn1<0.6.0,>=0.4.6 in /Library/Frameworks/Python.framework/Versions/3.10/lib/python3.10/site-packages (from pyasn1-modules>=0.2.1->google-auth<3.0.dev0,>=2.14.1->google-api-core<3.0.0,>=1.0.0->opencensus->ray[data,default]<3,>=2.30.0->qiskit_serverless) (0.5.1)\n"
     ]
    },
    {
     "name": "stdout",
     "output_type": "stream",
     "text": [
      "Requirement already satisfied: pylatexenc in /Library/Frameworks/Python.framework/Versions/3.10/lib/python3.10/site-packages (2.10)\n",
      "Requirement already satisfied: qiskit_aer in /Library/Frameworks/Python.framework/Versions/3.10/lib/python3.10/site-packages (0.16.1)\n",
      "Requirement already satisfied: qiskit>=1.1.0 in /Library/Frameworks/Python.framework/Versions/3.10/lib/python3.10/site-packages (from qiskit_aer) (1.3.2)\n",
      "Requirement already satisfied: numpy>=1.16.3 in /Library/Frameworks/Python.framework/Versions/3.10/lib/python3.10/site-packages (from qiskit_aer) (1.26.4)\n",
      "Requirement already satisfied: scipy>=1.0 in /Library/Frameworks/Python.framework/Versions/3.10/lib/python3.10/site-packages (from qiskit_aer) (1.15.1)\n",
      "Requirement already satisfied: psutil>=5 in /Library/Frameworks/Python.framework/Versions/3.10/lib/python3.10/site-packages (from qiskit_aer) (5.9.4)\n",
      "Requirement already satisfied: rustworkx>=0.15.0 in /Library/Frameworks/Python.framework/Versions/3.10/lib/python3.10/site-packages (from qiskit>=1.1.0->qiskit_aer) (0.16.0)\n",
      "Requirement already satisfied: sympy>=1.3 in /Library/Frameworks/Python.framework/Versions/3.10/lib/python3.10/site-packages (from qiskit>=1.1.0->qiskit_aer) (1.10.1)\n",
      "Requirement already satisfied: dill>=0.3 in /Library/Frameworks/Python.framework/Versions/3.10/lib/python3.10/site-packages (from qiskit>=1.1.0->qiskit_aer) (0.3.9)\n",
      "Requirement already satisfied: python-dateutil>=2.8.0 in /Library/Frameworks/Python.framework/Versions/3.10/lib/python3.10/site-packages (from qiskit>=1.1.0->qiskit_aer) (2.8.2)\n",
      "Requirement already satisfied: stevedore>=3.0.0 in /Library/Frameworks/Python.framework/Versions/3.10/lib/python3.10/site-packages (from qiskit>=1.1.0->qiskit_aer) (5.4.0)\n",
      "Requirement already satisfied: typing-extensions in /Library/Frameworks/Python.framework/Versions/3.10/lib/python3.10/site-packages (from qiskit>=1.1.0->qiskit_aer) (4.12.2)\n",
      "Requirement already satisfied: symengine<0.14,>=0.11 in /Library/Frameworks/Python.framework/Versions/3.10/lib/python3.10/site-packages (from qiskit>=1.1.0->qiskit_aer) (0.13.0)\n",
      "Requirement already satisfied: six>=1.5 in /Library/Frameworks/Python.framework/Versions/3.10/lib/python3.10/site-packages (from python-dateutil>=2.8.0->qiskit>=1.1.0->qiskit_aer) (1.16.0)\n",
      "Requirement already satisfied: pbr>=2.0.0 in /Library/Frameworks/Python.framework/Versions/3.10/lib/python3.10/site-packages (from stevedore>=3.0.0->qiskit>=1.1.0->qiskit_aer) (6.1.1)\n",
      "Requirement already satisfied: mpmath>=0.19 in /Library/Frameworks/Python.framework/Versions/3.10/lib/python3.10/site-packages (from sympy>=1.3->qiskit>=1.1.0->qiskit_aer) (1.3.0)\n",
      "Requirement already satisfied: setuptools in /Library/Frameworks/Python.framework/Versions/3.10/lib/python3.10/site-packages (from pbr>=2.0.0->stevedore>=3.0.0->qiskit>=1.1.0->qiskit_aer) (58.1.0)\n"
     ]
    }
   ],
   "source": [
    "!pip install qiskit\n",
    "!pip install qiskit-ibm-runtime\n",
    "!pip install qiskit[visualization]\n",
    "!pip install qiskit_serverless\n",
    "!pip install pylatexenc\n",
    "!pip install qiskit_aer\n",
    "import qiskit_aer\n",
    "from qiskit_aer import Aer"
   ]
  },
  {
   "cell_type": "code",
   "execution_count": 2,
   "id": "cde38975-facd-4db9-8fb4-5df6133ffa1d",
   "metadata": {},
   "outputs": [
    {
     "name": "stdout",
     "output_type": "stream",
     "text": [
      "1.3.2\n"
     ]
    }
   ],
   "source": [
    "import qiskit\n",
    "print(qiskit.__version__)"
   ]
  },
  {
   "cell_type": "code",
   "execution_count": 6,
   "id": "62362f12-e18e-46e3-a4b3-65879d90d40a",
   "metadata": {},
   "outputs": [],
   "source": [
    "from qiskit_ibm_runtime import QiskitRuntimeService\n",
    "from qiskit_ibm_runtime import SamplerV2 as Sampler"
   ]
  },
  {
   "cell_type": "code",
   "execution_count": 7,
   "id": "e7a9a7a6-53d0-45dd-b081-9128e5dde512",
   "metadata": {},
   "outputs": [],
   "source": [
    "service = QiskitRuntimeService(channel=\"ibm_quantum\",\n",
    "                               token='')"
   ]
  },
  {
   "cell_type": "code",
   "execution_count": 8,
   "id": "b9635961-484b-43c3-a853-874c10f78c89",
   "metadata": {},
   "outputs": [
    {
     "name": "stdout",
     "output_type": "stream",
     "text": [
      "Number of qubits 127\n"
     ]
    }
   ],
   "source": [
    "backend = service.backend(name='ibm_kyiv')\n",
    "print(\"Number of qubits\", backend.num_qubits)"
   ]
  },
  {
   "cell_type": "code",
   "execution_count": 10,
   "id": "6645bec9-1e8b-45fb-b850-b889ea2939d3",
   "metadata": {},
   "outputs": [],
   "source": [
    "import numpy as np\n",
    "import matplotlib.pyplot as plt\n",
    "\n",
    "from qiskit import QuantumCircuit, ClassicalRegister, QuantumRegister\n",
    "from qiskit.primitives import StatevectorSampler\n",
    "from qiskit.visualization import plot_histogram\n",
    "from qiskit.transpiler.preset_passmanagers import generate_preset_pass_manager"
   ]
  },
  {
   "cell_type": "code",
   "execution_count": 11,
   "id": "29bfa17f-dca3-4f0a-9e19-ac18875a9eee",
   "metadata": {},
   "outputs": [],
   "source": [
    "n = 10"
   ]
  },
  {
   "cell_type": "code",
   "execution_count": 12,
   "id": "6b28b461-6707-4be7-a890-60ab757d19e4",
   "metadata": {},
   "outputs": [
    {
     "name": "stdout",
     "output_type": "stream",
     "text": [
      "The oracle returns a balanced function\n"
     ]
    }
   ],
   "source": [
    "# Choose a type of oracle at random. With probability half it is constant, \n",
    "# and with the same probability it is balanced\n",
    "oracleType, oracleValue = np.random.randint(2), np.random.randint(2)\n",
    "\n",
    "if oracleType == 0:\n",
    "    print(\"The oracle returns a constant value \", oracleValue)\n",
    "else:\n",
    "    print(\"The oracle returns a balanced function\")\n",
    "    a = np.random.randint(1,2**n) # this is a hidden parameter for balanced oracle. \n",
    "\n",
    "# Creating registers\n",
    "# n qubits for querying the oracle and one qubit for storing the answer\n",
    "qr = QuantumRegister(n+1) #all qubits are initialized to zero\n",
    "# for recording the measurement on the first register\n",
    "cr = ClassicalRegister(n, name='res')\n",
    "\n",
    "circuitName = \"DeutschJozsa\"\n",
    "djCircuit = QuantumCircuit(qr, cr)\n",
    "\n",
    "# Create the superposition of all input queries in the first register by applying the Hadamard gate to each qubit.\n",
    "for i in range(n):\n",
    "    djCircuit.h(qr[i])\n",
    "\n",
    "# Flip the second register and apply the Hadamard gate.\n",
    "djCircuit.x(qr[n])\n",
    "djCircuit.h(qr[n])\n",
    "    \n",
    "# Apply barrier to mark the beginning of the oracle\n",
    "djCircuit.barrier()\n",
    "\n",
    "if oracleType == 0:#If the oracleType is \"0\", the oracle returns oracleValue for all input. \n",
    "    if oracleValue == 1:\n",
    "        djCircuit.x(qr[n])\n",
    "    else:\n",
    "        djCircuit.id(qr[n])\n",
    "else: # Otherwise, it returns the inner product of the input with a (non-zero bitstring) \n",
    "    for i in range(n):\n",
    "        if (a & (1 << i)):\n",
    "            djCircuit.cx(qr[i], qr[n])\n",
    "        \n",
    "# Apply barrier to mark the end of the oracle\n",
    "djCircuit.barrier()\n",
    "\n",
    "# Apply Hadamard gates after querying the oracle\n",
    "for i in range(n):\n",
    "    djCircuit.h(qr[i])\n",
    "    \n",
    "# Measurement\n",
    "djCircuit.barrier()\n",
    "for i in range(n):\n",
    "    djCircuit.measure(qr[i], cr[i])"
   ]
  },
  {
   "cell_type": "code",
   "execution_count": 13,
   "id": "8fc2341e-37c7-4a15-a8c2-2313e7cfe394",
   "metadata": {},
   "outputs": [
    {
     "data": {
      "image/png": "[encoded data removed]",
      "text/plain": [
       "<Figure size 914.277x518.389 with 1 Axes>"
      ]
     },
     "execution_count": 13,
     "metadata": {},
     "output_type": "execute_result"
    }
   ],
   "source": [
    "#draw the circuit\n",
    "djCircuit.draw(output='mpl',scale=0.5)"
   ]
  },
  {
   "cell_type": "code",
   "execution_count": 14,
   "id": "f6b8bd7b-d9b6-451b-8501-618f161b2148",
   "metadata": {},
   "outputs": [
    {
     "data": {
      "image/png": "[encoded data removed]",
      "text/plain": [
       "<Figure size 640x480 with 1 Axes>"
      ]
     },
     "execution_count": 14,
     "metadata": {},
     "output_type": "execute_result"
    }
   ],
   "source": [
    "sampler = StatevectorSampler()\n",
    "job = sampler.run([djCircuit])\n",
    "results = job.result()\n",
    "plot_histogram(results[0].data.res.get_counts())"
   ]
  },
  {
   "cell_type": "code",
   "execution_count": 78,
   "id": "5272460e-0d20-4ed4-92a9-9b07b8419f02",
   "metadata": {},
   "outputs": [],
   "source": [
    "from qiskit import QuantumCircuit, ClassicalRegister, QuantumRegister\n",
    "from qiskit_aer import AerSimulator\n",
    "from qiskit.primitives import StatevectorSampler\n",
    "from qiskit_ibm_runtime import QiskitRuntimeService\n",
    "from qiskit_ibm_runtime import SamplerV2 as Sampler\n",
    "from qiskit.transpiler.preset_passmanagers import generate_preset_pass_manager\n",
    "\n",
    "import numpy as np\n",
    "import matplotlib.pyplot as plt\n",
    "\n",
    "#Set n as two cause its just two qubits\n",
    "n=2\n",
    "\n",
    "def Deutsch_Jozsa_Algorithm(n):\n",
    "    #Start with settings qubits up\n",
    "    # n qubits\n",
    "    qr = QuantumRegister(n+1)\n",
    "    # one output bit for the result\n",
    "    cr = ClassicalRegister(n)\n",
    "    \n",
    "    #Make the circuit\n",
    "    circuit = QuantumCircuit(qr, cr)\n",
    "\n",
    "    #Set the qubits to 0\n",
    "    circuit.x(qr[n])    \n",
    "    #Apply the Hadamard gate to each qubit\n",
    "    #to create superposition of all possible input states\n",
    "    for i in range(n):\n",
    "        circuit.h(qr[i])\n",
    "    \n",
    "    #Apple the quantum oracle to the qubits\n",
    "    qc.compose(, inplace=True)\n",
    "    #Apply another Hadamard gate to each qubit \n",
    "    #again to make the result more visible\n",
    "    for i in range(n):\n",
    "        circuit.h(qr[i])\n",
    "\n",
    "    #Measure the result\n",
    "    circuit.measure(qr[:n], cr)\n",
    "\n",
    "    return circuit\n",
    "    \n"
   ]
  },
  {
   "cell_type": "code",
   "execution_count": 79,
   "id": "d9255a32-900e-418d-9245-f4410285be5e",
   "metadata": {},
   "outputs": [
    {
     "name": "stdout",
     "output_type": "stream",
     "text": [
      "Measurement Outcomes: {'00': 1024}\n"
     ]
    }
   ],
   "source": [
    "def constant_oracle(n):\n",
    "    oracle = QuantumCircuit(n + 1)\n",
    "    return oracle\n",
    "\n",
    "def balanced_oracle(n):\n",
    "    oracle = QuantumCircuit(n + 1)\n",
    "    for i in range(n):\n",
    "        oracle.cx(i, n)  # Apply CNOT from input qubits to the output qubit\n",
    "    return oracle\n",
    "\n",
    "# Choose an oracle\n",
    "#n = 3  # Number of input qubits\n",
    "oracle = balanced_oracle(n)  \n",
    "\n",
    "# Run the Deutsch-Jozsa Algorithm\n",
    "dj_circuit = deutsch_jozsa_algorithm(n, oracle)\n",
    "\n",
    "# Simulate the circuit\n",
    "simulator = Aer.get_backend(\"aer_simulator\")\n",
    "compiled_circuit = transpile(dj_circuit, simulator)\n",
    "job = simulator.run(compiled_circuit)\n",
    "result = job.result()\n",
    "counts = result.get_counts()\n",
    "\n",
    "# Print the results\n",
    "print(\"Measurement Outcomes:\", counts)\n",
    "\n",
    "#Show circu\n",
    "# Plot results\n",
    "#plt.bar(counts.keys(), counts.values())\n",
    "#plt.xlabel(\"Measurement Outcomes\")\n",
    "#plt.ylabel(\"Frequency\")\n",
    "#plt.title(\"Deutsch-Josza Algorithm Result\")\n",
    "#plt.show()"
   ]
  },
  {
   "cell_type": "code",
   "execution_count": 80,
   "id": "cd11ed64-b437-45f5-b625-fe64b7424604",
   "metadata": {},
   "outputs": [
    {
     "ename": "AttributeError",
     "evalue": "'int' object has no attribute 'num_qubits'",
     "output_type": "error",
     "traceback": [
      "\u001b[1;31m---------------------------------------------------------------------------\u001b[0m",
      "\u001b[1;31mAttributeError\u001b[0m                            Traceback (most recent call last)",
      "Cell \u001b[1;32mIn[80], line 1\u001b[0m\n\u001b[1;32m----> 1\u001b[0m display(\u001b[43mDeutsch_Jozsa_Algorithm\u001b[49m\u001b[43m(\u001b[49m\u001b[38;5;241;43m2\u001b[39;49m\u001b[43m)\u001b[49m\u001b[38;5;241m.\u001b[39mdraw(output\u001b[38;5;241m=\u001b[39m\u001b[38;5;124m\"\u001b[39m\u001b[38;5;124mmpl\u001b[39m\u001b[38;5;124m\"\u001b[39m))\n",
      "Cell \u001b[1;32mIn[78], line 32\u001b[0m, in \u001b[0;36mDeutsch_Jozsa_Algorithm\u001b[1;34m(n)\u001b[0m\n\u001b[0;32m     29\u001b[0m     circuit\u001b[38;5;241m.\u001b[39mh(qr[i])\n\u001b[0;32m     31\u001b[0m \u001b[38;5;66;03m#Apple the quantum oracle to the qubits\u001b[39;00m\n\u001b[1;32m---> 32\u001b[0m \u001b[43mqc\u001b[49m\u001b[38;5;241;43m.\u001b[39;49m\u001b[43mcompose\u001b[49m\u001b[43m(\u001b[49m\u001b[43mn\u001b[49m\u001b[43m,\u001b[49m\u001b[43m \u001b[49m\u001b[43minplace\u001b[49m\u001b[38;5;241;43m=\u001b[39;49m\u001b[38;5;28;43;01mTrue\u001b[39;49;00m\u001b[43m)\u001b[49m\n\u001b[0;32m     33\u001b[0m \u001b[38;5;66;03m#Apply another Hadamard gate to each qubit \u001b[39;00m\n\u001b[0;32m     34\u001b[0m \u001b[38;5;66;03m#again to make the result more visible\u001b[39;00m\n\u001b[0;32m     35\u001b[0m \u001b[38;5;28;01mfor\u001b[39;00m i \u001b[38;5;129;01min\u001b[39;00m \u001b[38;5;28mrange\u001b[39m(n):\n",
      "File \u001b[1;32m~\\anaconda3\\envs\\qiskit-stable\\Lib\\site-packages\\qiskit\\circuit\\quantumcircuit.py:1972\u001b[0m, in \u001b[0;36mQuantumCircuit.compose\u001b[1;34m(self, other, qubits, clbits, front, inplace, wrap, copy, var_remap, inline_captures)\u001b[0m\n\u001b[0;32m   1970\u001b[0m \u001b[38;5;28;01mif\u001b[39;00m \u001b[38;5;129;01mnot\u001b[39;00m \u001b[38;5;28misinstance\u001b[39m(other, QuantumCircuit):\n\u001b[0;32m   1971\u001b[0m     \u001b[38;5;28;01mif\u001b[39;00m qubits \u001b[38;5;129;01mis\u001b[39;00m \u001b[38;5;28;01mNone\u001b[39;00m:\n\u001b[1;32m-> 1972\u001b[0m         qubits \u001b[38;5;241m=\u001b[39m \u001b[38;5;28mself\u001b[39m\u001b[38;5;241m.\u001b[39mqubits[: \u001b[43mother\u001b[49m\u001b[38;5;241;43m.\u001b[39;49m\u001b[43mnum_qubits\u001b[49m]\n\u001b[0;32m   1973\u001b[0m     \u001b[38;5;28;01mif\u001b[39;00m clbits \u001b[38;5;129;01mis\u001b[39;00m \u001b[38;5;28;01mNone\u001b[39;00m:\n\u001b[0;32m   1974\u001b[0m         clbits \u001b[38;5;241m=\u001b[39m \u001b[38;5;28mself\u001b[39m\u001b[38;5;241m.\u001b[39mclbits[: other\u001b[38;5;241m.\u001b[39mnum_clbits]\n",
      "\u001b[1;31mAttributeError\u001b[0m: 'int' object has no attribute 'num_qubits'"
     ]
    }
   ],
   "source": [
    "display(Deutsch_Jozsa_Algorithm(2).draw(output=\"mpl\"))"
   ]
  },
  {
   "cell_type": "code",
   "execution_count": 27,
   "id": "623187ea-d0ba-474c-8677-ede881120709",
   "metadata": {},
   "outputs": [],
   "source": [
    "from qiskit import QuantumCircuit\n",
    "import numpy as np\n",
    "\n",
    "def DeutschJoszaAlgorithm(num_qubits):\n",
    "    qc = QuantumCircuit(num_qubits + 1)\n",
    "    if np.random.randint(0, 2):\n",
    "        # Flip output qubit with 50% chance\n",
    "        qc.x(num_qubits)\n",
    "    if np.random.randint(0, 2):\n",
    "        # return constant circuit with 50% chance\n",
    "        return qc\n",
    "\n",
    "    # next, choose half the possible input states\n",
    "    on_states = np.random.choice(\n",
    "        range(2**num_qubits),  # numbers to sample from\n",
    "        2**num_qubits // 2,  # number of samples\n",
    "        replace=False,  # makes sure states are only sampled once\n",
    "    )\n",
    "\n",
    "    def add_cx(qc, bit_string):\n",
    "        for qubit, bit in enumerate(reversed(bit_string)):\n",
    "            if bit == \"1\":\n",
    "                qc.x(qubit)\n",
    "        return qc\n",
    "\n",
    "    for state in on_states:\n",
    "        qc.barrier()  # Barriers are added to help visualize how the functions are created. They can safely be removed.\n",
    "        qc = add_cx(qc, f\"{state:0b}\")\n",
    "        qc.mcx(list(range(num_qubits)), num_qubits)\n",
    "        qc = add_cx(qc, f\"{state:0b}\")\n",
    "\n",
    "    qc.barrier()\n",
    "\n",
    "    return qc"
   ]
  },
  {
   "cell_type": "code",
   "execution_count": 51,
   "id": "6b47eb43-db5e-489a-af51-9840a2c3b9ad",
   "metadata": {},
   "outputs": [
    {
     "data": {
      "image/png": "[encoded data removed]",
      "text/plain": [
       "<Figure size 1541.66x367.889 with 1 Axes>"
      ]
     },
     "metadata": {},
     "output_type": "display_data"
    }
   ],
   "source": [
    "display(dj_function(3).draw(output=\"mpl\"))"
   ]
  },
  {
   "cell_type": "code",
   "execution_count": 35,
   "id": "803acd16-0754-40a6-a187-bbeb456ee694",
   "metadata": {},
   "outputs": [],
   "source": [
    "def compile_circuit(function: QuantumCircuit):\n",
    "    \"\"\"\n",
    "    Compiles a circuit for use in the Deutsch-Jozsa algorithm.\n",
    "    \"\"\"\n",
    "    n = function.num_qubits - 1\n",
    "    qc = QuantumCircuit(n + 1, n)\n",
    "    qc.x(n)\n",
    "    qc.h(range(n + 1))\n",
    "    qc.compose(function, inplace=True)\n",
    "    qc.h(range(n))\n",
    "    qc.measure(range(n), range(n))\n",
    "    return qc"
   ]
  },
  {
   "cell_type": "code",
   "execution_count": 36,
   "id": "8673d852-6cd9-483d-916b-c55b1e94ab07",
   "metadata": {},
   "outputs": [],
   "source": [
    "from qiskit_aer import AerSimulator\n",
    "\n",
    "def dj_algorithm(function: QuantumCircuit):\n",
    "    \"\"\"\n",
    "    Determine if a Deutsch-Jozsa function is constant or balanced.\n",
    "    \"\"\"\n",
    "    qc = compile_circuit(function)\n",
    "\n",
    "    result = AerSimulator().run(qc, shots=1, memory=True).result()\n",
    "    measurements = result.get_memory()\n",
    "    if \"1\" in measurements[0]:\n",
    "        return \"balanced\"\n",
    "    return \"constant\""
   ]
  },
  {
   "cell_type": "code",
   "execution_count": 44,
   "id": "ccf43d1e-25a1-4568-8380-3b6eafa560a0",
   "metadata": {},
   "outputs": [
    {
     "data": {
      "text/html": [
       "<pre style=\"word-wrap: normal;white-space: pre;background: #fff0;line-height: 1.1;font-family: &quot;Courier New&quot;,Courier,monospace\">      ░                 ░       ░                 ░ ┌───┐     ┌───┐ ░ \n",
       "q_0: ─░────────■────────░───■───░────────■────────░─┤ X ├──■──┤ X ├─░─\n",
       "      ░ ┌───┐  │  ┌───┐ ░   │   ░ ┌───┐  │  ┌───┐ ░ ├───┤  │  ├───┤ ░ \n",
       "q_1: ─░─┤ X ├──■──┤ X ├─░───■───░─┤ X ├──■──┤ X ├─░─┤ X ├──■──┤ X ├─░─\n",
       "      ░ ├───┤  │  ├───┤ ░   │   ░ └───┘  │  └───┘ ░ └───┘  │  └───┘ ░ \n",
       "q_2: ─░─┤ X ├──■──┤ X ├─░───■───░────────■────────░────────■────────░─\n",
       "      ░ └───┘┌─┴─┐└───┘ ░ ┌─┴─┐ ░      ┌─┴─┐      ░      ┌─┴─┐      ░ \n",
       "q_3: ─░──────┤ X ├──────░─┤ X ├─░──────┤ X ├──────░──────┤ X ├──────░─\n",
       "      ░      └───┘      ░ └───┘ ░      └───┘      ░      └───┘      ░ </pre>"
      ],
      "text/plain": [
       "      ░                 ░       ░                 ░ ┌───┐     ┌───┐ ░ \n",
       "q_0: ─░────────■────────░───■───░────────■────────░─┤ X ├──■──┤ X ├─░─\n",
       "      ░ ┌───┐  │  ┌───┐ ░   │   ░ ┌───┐  │  ┌───┐ ░ ├───┤  │  ├───┤ ░ \n",
       "q_1: ─░─┤ X ├──■──┤ X ├─░───■───░─┤ X ├──■──┤ X ├─░─┤ X ├──■──┤ X ├─░─\n",
       "      ░ ├───┤  │  ├───┤ ░   │   ░ └───┘  │  └───┘ ░ └───┘  │  └───┘ ░ \n",
       "q_2: ─░─┤ X ├──■──┤ X ├─░───■───░────────■────────░────────■────────░─\n",
       "      ░ └───┘┌─┴─┐└───┘ ░ ┌─┴─┐ ░      ┌─┴─┐      ░      ┌─┴─┐      ░ \n",
       "q_3: ─░──────┤ X ├──────░─┤ X ├─░──────┤ X ├──────░──────┤ X ├──────░─\n",
       "      ░      └───┘      ░ └───┘ ░      └───┘      ░      └───┘      ░ "
      ]
     },
     "metadata": {},
     "output_type": "display_data"
    },
    {
     "data": {
      "text/plain": [
       "'balanced'"
      ]
     },
     "metadata": {},
     "output_type": "display_data"
    }
   ],
   "source": [
    "f = dj_function(3)\n",
    "display(f.draw())\n",
    "display(dj_algorithm(f))"
   ]
  },
  {
   "cell_type": "code",
   "execution_count": 88,
   "id": "08b2b01d-6076-418b-9003-f61e2a745e3e",
   "metadata": {},
   "outputs": [],
   "source": [
    "from qiskit import QuantumCircuit\n",
    "from qiskit_aer import AerSimulator\n",
    "\n",
    "def deutsch_algorithm(case: int):\n",
    "    if case not in [1, 2, 3, 4]:\n",
    "        raise ValueError(\"`case` must be 1, 2, 3, or 4.\")\n",
    "    \n",
    "    # Create the Deutsch function circuit\n",
    "    function = QuantumCircuit(2)\n",
    "    if case in [2, 3]:\n",
    "        function.cx(0, 1)\n",
    "    if case in [3, 4]:\n",
    "        function.x(1)\n",
    "    \n",
    "    # Compile the circuit for Deutsch's algorithm\n",
    "    n = function.num_qubits - 1\n",
    "    qc = QuantumCircuit(n + 1, n)\n",
    "    \n",
    "    qc.x(n)\n",
    "    qc.h(range(n + 1))\n",
    "    qc.barrier()\n",
    "    qc.compose(function, inplace=True)\n",
    "    qc.barrier()\n",
    "    qc.h(range(n))\n",
    "    qc.measure(range(n), range(n))\n",
    "    \n",
    "    # Execute the circuit\n",
    "    result = AerSimulator().run(qc, shots=1, memory=True).result()\n",
    "    measurements = result.get_memory()\n",
    "    \n",
    "    return \"constant\" if measurements[0] == \"0\" else \"balanced\"\n"
   ]
  },
  {
   "cell_type": "code",
   "execution_count": 93,
   "id": "4c01da31-5dec-40cc-9d3e-251fc458e6ee",
   "metadata": {},
   "outputs": [
    {
     "data": {
      "image/png": "[encoded data removed]",
      "text/plain": [
       "<Figure size 1625.27x367.889 with 1 Axes>"
      ]
     },
     "metadata": {},
     "output_type": "display_data"
    },
    {
     "data": {
      "text/plain": [
       "'balanced'"
      ]
     },
     "metadata": {},
     "output_type": "display_data"
    }
   ],
   "source": [
    "f = dj_function(3)\n",
    "display(f.draw(output=\"mpl\"))\n",
    "display(dj_algorithm(f))"
   ]
  },
  {
   "cell_type": "code",
   "execution_count": null,
   "id": "9c897dd7-80c1-4520-a7a9-326c503c4dd9",
   "metadata": {},
   "outputs": [],
   "source": []
  }
 ],
 "metadata": {
  "kernelspec": {
   "display_name": "Python 3 (ipykernel)",
   "language": "python",
   "name": "python3"
  },
  "language_info": {
   "codemirror_mode": {
    "name": "ipython",
    "version": 3
   },
   "file_extension": ".py",
   "mimetype": "text/x-python",
   "name": "python",
   "nbconvert_exporter": "python",
   "pygments_lexer": "ipython3",
   "version": "3.10.3"
  }
 },
 "nbformat": 4,
 "nbformat_minor": 5
}
